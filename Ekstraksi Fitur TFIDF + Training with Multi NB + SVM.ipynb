{
 "cells": [
  {
   "cell_type": "code",
   "execution_count": 41,
   "metadata": {},
   "outputs": [],
   "source": [
    "import pandas as pd  #Read Data\n",
    "\n",
    "def read_data(file_dir):\n",
    "    df = pd.read_csv(file_dir)\n",
    "    return df"
   ]
  },
  {
   "cell_type": "code",
   "execution_count": 42,
   "metadata": {},
   "outputs": [],
   "source": [
    "import matplotlib.pyplot as plt\n",
    "\n",
    "def visualize_data(df, col_name):\n",
    "    one = 0\n",
    "    zero = 0\n",
    "    \n",
    "    fig = plt.figure()\n",
    "    ax = fig.add_axes([0,0,1,1])\n",
    "\n",
    "    for label in df[col_name]:\n",
    "        if label == 1:\n",
    "            one += 1\n",
    "        else:\n",
    "            zero += 1\n",
    "    ax.bar(0.00, [one], color = 'g', width = 0.25)\n",
    "    ax.bar(0.25, [zero], color = 'r', width = 0.25)"
   ]
  },
  {
   "cell_type": "code",
   "execution_count": 61,
   "metadata": {},
   "outputs": [],
   "source": [
    "import string\n",
    "from nltk import word_tokenize\n",
    "\n",
    "replacers = {'sy':'saya','gak':'enggak','ssah':'susah','bgt':'banget','skrng':'sekarang','yg':'yang','gw':'gue',\n",
    "             'baguuus':'bagus','mmbantu':'membantu', 'parahg':'parah'}\n",
    "\n",
    "def words_normalization(sentence, dictionary):\n",
    "    return \" \".join([dictionary.get(w,w) for w in sentence.split()])\n",
    "\n",
    "def preprocess1(text):\n",
    "    case_folded = text.lower()\n",
    "    exclude = set(string.punctuation + '1234567890')\n",
    "    symbol_removed = ''.join(ch for ch in case_folded if ch not in exclude)\n",
    "    word_normalized = words_normalization(symbol_removed, replacers)\n",
    "    tokenized = word_tokenize(word_normalized)\n",
    "    return tokenized"
   ]
  },
  {
   "cell_type": "code",
   "execution_count": 70,
   "metadata": {},
   "outputs": [],
   "source": [
    "from nltk.tag import CRFTagger\n",
    "\n",
    "def pos_tagging(data_ulasan):\n",
    "    ct = CRFTagger()\n",
    "    ct.set_model_file('all_indo_man_tag_corpus_model.crf.tagger')\n",
    "\n",
    "    pos_ulasan = ct.tag_sents(data_ulasan)\n",
    "\n",
    "    noun_data = list()\n",
    "    for i,text in enumerate(pos_ulasan, start=0):\n",
    "        temp = list()\n",
    "        for term in text:\n",
    "            if term[1] == 'VB' or term[1] == 'NN' or term[1] == 'JJ' or term[1] == 'RB':\n",
    "                temp.append(term[0])\n",
    "        noun_data.append(temp)\n",
    "\n",
    "    pos_ulasan = data_ulasan\n",
    "\n",
    "    for i in range(len(pos_ulasan)):\n",
    "        pos_ulasan[i] = noun_data[i]\n",
    "    \n",
    "    return pos_ulasan"
   ]
  },
  {
   "cell_type": "code",
   "execution_count": 86,
   "metadata": {},
   "outputs": [],
   "source": [
    "from Sastrawi.Stemmer.StemmerFactory import StemmerFactory\n",
    "from nltk.corpus import stopwords\n",
    "from nltk.tokenize.treebank import TreebankWordDetokenizer\n",
    "\n",
    "def preprocess2(text):\n",
    "    factory = StemmerFactory()\n",
    "    stemmer = factory.create_stemmer()\n",
    "    stop = set(stopwords.words('indonesian'))\n",
    "    text = TreebankWordDetokenizer().detokenize(text)\n",
    "    \n",
    "    stop_removed = ' '.join([word for word in text.split() if word not in stop])\n",
    "    stemmed = ' '.join([stemmer.stem(word) for word in stop_removed.split()])\n",
    "    tokenized = word_tokenize(stemmed)\n",
    "    return tokenized"
   ]
  },
  {
   "cell_type": "code",
   "execution_count": 47,
   "metadata": {},
   "outputs": [],
   "source": [
    "from collections import Counter\n",
    "from sklearn.datasets import make_classification\n",
    "from imblearn.over_sampling import SMOTE \n",
    "\n",
    "def apply_oversampling(X, y):\n",
    "    print('Original dataset shape %s' % Counter(y))\n",
    "    sm = SMOTE(random_state=42)\n",
    "    X_res, y_res = sm.fit_resample(X, y)\n",
    "    print('Resampled dataset shape %s' % Counter(y_res))\n",
    "    return X_res, y_res"
   ]
  },
  {
   "cell_type": "code",
   "execution_count": 48,
   "metadata": {},
   "outputs": [],
   "source": [
    "#Convert label to negative 0 or positive 1\n",
    "import numpy\n",
    "\n",
    "def convert_sentiment_label(df, col_name):\n",
    "    index_nan = list()\n",
    "    df2 = df[['Ulasan', col_name]].copy()\n",
    "    df2[col_name].replace(str(\"pos\"), 1, inplace=True)\n",
    "    df2[col_name].replace(str(\"neg\"), 0, inplace=True)\n",
    "    df2[col_name].replace(\"\", float(\"NaN\"), inplace=True)\n",
    "    df2.dropna(subset=[col_name], inplace=True)\n",
    "    df2[col_name] = df2[col_name].astype(numpy.int64)\n",
    "    \n",
    "    return df2\n",
    "\n",
    "def convert_aspect_label(df, col_name):\n",
    "    index_nan = list()\n",
    "    df2 = df[['Ulasan', col_name]].copy()\n",
    "    df2[col_name].replace(float(\"NaN\"), 0, inplace=True)\n",
    "    df2[col_name].replace(str(\"pos\"), 1, inplace=True)\n",
    "    df2[col_name].replace(str(\"neg\"), 1, inplace=True)\n",
    "    df2[col_name] = df2[col_name].astype(numpy.int64)\n",
    "    \n",
    "    return df2"
   ]
  },
  {
   "cell_type": "code",
   "execution_count": 49,
   "metadata": {},
   "outputs": [],
   "source": [
    "import sklearn\n",
    "from sklearn.model_selection import train_test_split\n",
    "\n",
    "def split_data(df, col_name, test_size):\n",
    "    words = df.Ulasan.tolist()\n",
    "    label = df[col_name].tolist()\n",
    "    x_train, x_test, y_train, y_test = train_test_split(words, label, test_size=test_size, random_state=10)\n",
    "    return x_train, x_test, y_train, y_test"
   ]
  },
  {
   "cell_type": "code",
   "execution_count": 50,
   "metadata": {},
   "outputs": [],
   "source": [
    "#https://stackoverflow.com/questions/53294482/how-to-get-tf-idf-scores-for-the-words\n",
    "\n",
    "from sklearn.feature_extraction.text import TfidfVectorizer\n",
    "\n",
    "def tfidf_vectorizer(x_train, x_test):\n",
    "    vectorizer = TfidfVectorizer(sublinear_tf=True, max_df=0.5)\n",
    "    vecx_train = vectorizer.fit_transform(x_train).toarray()\n",
    "    vecx_test = vectorizer.transform(x_test).toarray()\n",
    "    return vecx_train, vecx_test, vectorizer"
   ]
  },
  {
   "cell_type": "code",
   "execution_count": 51,
   "metadata": {},
   "outputs": [],
   "source": [
    "from sklearn.naive_bayes import MultinomialNB\n",
    "from time import time\n",
    "\n",
    "def train_data_nb(x_train, x_test, y_train, y_test):\n",
    "    t0 = time()\n",
    "    model = MultinomialNB()\n",
    "    model.fit(x_train, y_train)\n",
    "    print(f\"\\nTraining time: {round(time()-t0, 3)}s\")\n",
    "    t0 = time()\n",
    "    score_train = model.score(x_train, y_train)\n",
    "    print(f\"Prediction time (train): {round(time()-t0, 3)}s\")\n",
    "    t0 = time()\n",
    "    score_test = model.score(x_test, y_test)\n",
    "    print(f\"Prediction time (test): {round(time()-t0, 3)}s\")\n",
    "    print(\"\\nTrain set score:\", score_train)\n",
    "    print(\"Test set score:\", score_test)\n",
    "    return model"
   ]
  },
  {
   "cell_type": "code",
   "execution_count": 52,
   "metadata": {},
   "outputs": [],
   "source": [
    "from sklearn import svm\n",
    "\n",
    "def train_data_svm(x_train, x_test, y_train, y_test):\n",
    "    t0 = time()\n",
    "    model = svm.SVC(kernel='linear')\n",
    "    model.fit(x_train, y_train)\n",
    "    print(f\"\\nTraining time: {round(time()-t0, 3)}s\")\n",
    "    t0 = time()\n",
    "    score_train = model.score(x_train, y_train)\n",
    "    print(f\"Prediction time (train): {round(time()-t0, 3)}s\")\n",
    "    t0 = time()\n",
    "    score_test = model.score(x_test, y_test)\n",
    "    print(f\"Prediction time (test): {round(time()-t0, 3)}s\")\n",
    "    print(\"\\nTrain set score:\", score_train)\n",
    "    print(\"Test set score:\", score_test)\n",
    "    return model"
   ]
  },
  {
   "cell_type": "code",
   "execution_count": 53,
   "metadata": {},
   "outputs": [],
   "source": [
    "def predict_data(text, model):\n",
    "    data = [text]\n",
    "    vec_data = vectorizer.transform(data).toarray()\n",
    "    return model.predict(vec_data)"
   ]
  },
  {
   "cell_type": "code",
   "execution_count": 54,
   "metadata": {},
   "outputs": [],
   "source": [
    "from sklearn.metrics import accuracy_score, precision_recall_fscore_support\n",
    "\n",
    "def evaluate_model(model, vectorized_test_data, label):\n",
    "    x_test = vectorized_test_data\n",
    "    y_pred = model.predict(x_test)\n",
    "    return precision_recall_fscore_support(label, y_pred, average='micro')"
   ]
  },
  {
   "cell_type": "markdown",
   "metadata": {},
   "source": [
    "# Run Program!!!"
   ]
  },
  {
   "cell_type": "code",
   "execution_count": 55,
   "metadata": {},
   "outputs": [],
   "source": [
    "#df = read_data(\"Data skripsi/fix hasil label/aspek_labeling_1.csv\")\n",
    "df = read_data(\"Data skripsi/dataset_ulasan_full.csv\")"
   ]
  },
  {
   "cell_type": "code",
   "execution_count": 56,
   "metadata": {},
   "outputs": [
    {
     "data": {
      "image/png": "[encoded data removed]",
      "text/plain": [
       "<Figure size 432x288 with 1 Axes>"
      ]
     },
     "metadata": {
      "needs_background": "light"
     },
     "output_type": "display_data"
    }
   ],
   "source": [
    "#aspects: 'Learnability', 'Efficiency', 'Memorability', 'Errors', 'Satisfaction'\n",
    "#Pelabelan dengan 1 dan 0\n",
    "\n",
    "col_name = 'Learnability'\n",
    "df_sentimen = convert_sentiment_label(df, col_name)\n",
    "df_aspect = convert_aspect_label(df, col_name) \n",
    "visualize_data(df_sentimen, col_name)"
   ]
  },
  {
   "cell_type": "code",
   "execution_count": 79,
   "metadata": {},
   "outputs": [],
   "source": [
    "#Split Data \n",
    "\n",
    "x_train1, x_test1, y_train1, y_test1 = split_data(df_aspect, col_name, test_size= 0.2) #Split Data untuk klasifikasi aspek\n",
    "x_train2, x_test2, y_train2, y_test2 = split_data(df_sentimen, col_name, test_size= 0.2) #Split Data untuk klasifikasi sentimen"
   ]
  },
  {
   "cell_type": "code",
   "execution_count": 80,
   "metadata": {},
   "outputs": [],
   "source": [
    "#Preprocessing 1\n",
    "\n",
    "x_train1 = [preprocess1(text) for text in x_train1]\n",
    "x_test1 = [preprocess1(text) for text in x_test1]\n",
    "\n",
    "x_train2 = [preprocess1(text) for text in x_train2]\n",
    "x_test2 = [preprocess1(text) for text in x_test2]"
   ]
  },
  {
   "cell_type": "code",
   "execution_count": 81,
   "metadata": {},
   "outputs": [],
   "source": [
    "#Pos Tagging untuk data ulasan klasifikasi sentimen\n",
    "\n",
    "x_train2 = pos_tagging(x_train2)\n",
    "x_test2 = pos_tagging(x_test2)"
   ]
  },
  {
   "cell_type": "code",
   "execution_count": 87,
   "metadata": {},
   "outputs": [],
   "source": [
    "#Preprocess 2\n",
    "\n",
    "x_train1 = [preprocess2(text) for text in x_train1]\n",
    "x_test1 = [preprocess2(text) for text in x_test1]\n",
    "\n",
    "x_train2 = [preprocess2(text) for text in x_train2]\n",
    "x_test2 = [preprocess2(text) for text in x_test2]"
   ]
  },
  {
   "cell_type": "code",
   "execution_count": 93,
   "metadata": {},
   "outputs": [],
   "source": [
    "def detokenize(tokens):\n",
    "    return TreebankWordDetokenizer().detokenize(tokens)\n",
    "\n",
    "x_train1 = [detokenize(text) for text in x_train1]\n",
    "x_test1 = [detokenize(text) for text in x_test1]\n",
    "\n",
    "x_train2 = [detokenize(text) for text in x_train2]\n",
    "x_test2 = [detokenize(text) for text in x_test2]"
   ]
  },
  {
   "cell_type": "code",
   "execution_count": 94,
   "metadata": {},
   "outputs": [],
   "source": [
    "#Ekstraksi fitur TF-IDF\n",
    "\n",
    "vx_train1, vx_test1, vectorizer1 = tfidf_vectorizer(x_train1, x_test1) #Untuk klasifikasi aspek\n",
    "vx_train2, vx_test2, vectorizer2 = tfidf_vectorizer(x_train2, x_test2) #Untuk klasifikasi sentimen"
   ]
  },
  {
   "cell_type": "code",
   "execution_count": 95,
   "metadata": {},
   "outputs": [
    {
     "name": "stdout",
     "output_type": "stream",
     "text": [
      "Original dataset shape Counter({0: 2537, 1: 496})\n",
      "Resampled dataset shape Counter({0: 2537, 1: 2537})\n",
      "----------------------------------------------------\n",
      "Original dataset shape Counter({0: 260, 1: 233})\n",
      "Resampled dataset shape Counter({1: 260, 0: 260})\n"
     ]
    }
   ],
   "source": [
    "#Oversampling\n",
    "\n",
    "vx_train1, y_train1 = apply_oversampling(vx_train1, y_train1) #Oversampling data untuk klasifikasi aspek\n",
    "print('----------------------------------------------------')\n",
    "vx_train2, y_train2 = apply_oversampling(vx_train2, y_train2) ##Oversampling data untuk klasifikasi aspek"
   ]
  },
  {
   "cell_type": "code",
   "execution_count": 96,
   "metadata": {},
   "outputs": [
    {
     "name": "stdout",
     "output_type": "stream",
     "text": [
      "\n",
      "Training time: 0.101s\n",
      "Prediction time (train): 0.1s\n",
      "Prediction time (test): 0.025s\n",
      "\n",
      "Train set score: 0.9020496649586125\n",
      "Test set score: 0.6205533596837944\n",
      "--------------------------------------------------------\n",
      "\n",
      "Training time: 0.004s\n",
      "Prediction time (train): 0.003s\n",
      "Prediction time (test): 0.001s\n",
      "\n",
      "Train set score: 0.9346153846153846\n",
      "Test set score: 0.6209677419354839\n"
     ]
    }
   ],
   "source": [
    "#Model Training Multi-NB\n",
    "\n",
    "model_nb1 = train_data_nb(vx_train1, vx_test1, y_train1, y_test1) #Training Model klasifikasi aspek \n",
    "print('--------------------------------------------------------')\n",
    "model_nb2 = train_data_nb(vx_train2, vx_test2, y_train2, y_test2) #Training Model klasifikasi sentimen"
   ]
  },
  {
   "cell_type": "code",
   "execution_count": 97,
   "metadata": {},
   "outputs": [
    {
     "name": "stdout",
     "output_type": "stream",
     "text": [
      "(0.6205533596837944, 0.6205533596837944, 0.6205533596837944, None)\n",
      "-----------------------------------------\n",
      "(0.6209677419354839, 0.6209677419354839, 0.6209677419354839, None)\n"
     ]
    }
   ],
   "source": [
    "print(evaluate_model(model_nb1, vx_test1, y_test1))\n",
    "print('-----------------------------------------')\n",
    "print(evaluate_model(model_nb2, vx_test2, y_test2))"
   ]
  },
  {
   "cell_type": "code",
   "execution_count": 103,
   "metadata": {},
   "outputs": [
    {
     "name": "stdout",
     "output_type": "stream",
     "text": [
      "\n",
      "Training time: 0.382s\n",
      "Prediction time (train): 0.275s\n",
      "Prediction time (test): 0.067s\n",
      "\n",
      "Train set score: 1.0\n",
      "Test set score: 0.9112903225806451\n"
     ]
    }
   ],
   "source": [
    "#Model Training SVM\n",
    "\n",
    "model_svm1 = train_data_svm(vx_train1, vx_test1, y_train1, y_test1) #Training Model klasifikasi aspek \n",
    "print('----------------------------------------------------------')\n",
    "model_svm2 = train_data_svm(vx_train2, vx_test2, y_train2, y_test2) #Training Model klasifikasi sentimen \n"
   ]
  },
  {
   "cell_type": "code",
   "execution_count": 104,
   "metadata": {},
   "outputs": [
    {
     "data": {
      "text/plain": [
       "(0.9112903225806451, 0.9112903225806451, 0.9112903225806451, None)"
      ]
     },
     "execution_count": 104,
     "metadata": {},
     "output_type": "execute_result"
    }
   ],
   "source": [
    "evaluate_model(model_svm, vx_test, y_test)"
   ]
  },
  {
   "cell_type": "code",
   "execution_count": 107,
   "metadata": {},
   "outputs": [
    {
     "data": {
      "text/plain": [
       "array([1])"
      ]
     },
     "execution_count": 107,
     "metadata": {},
     "output_type": "execute_result"
    }
   ],
   "source": [
    "text = \"bagus\"\n",
    "predict_data(text, model_svm)"
   ]
  },
  {
   "cell_type": "code",
   "execution_count": 19,
   "metadata": {},
   "outputs": [],
   "source": [
    "#SOurce: https://towardsdatascience.com/training-a-naive-bayes-model-to-identify-the-author-of-an-email-or-document-17dc85fa630a"
   ]
  }
 ],
 "metadata": {
  "kernelspec": {
   "display_name": "Python 3",
   "language": "python",
   "name": "python3"
  },
  "language_info": {
   "codemirror_mode": {
    "name": "ipython",
    "version": 3
   },
   "file_extension": ".py",
   "mimetype": "text/x-python",
   "name": "python",
   "nbconvert_exporter": "python",
   "pygments_lexer": "ipython3",
   "version": "3.7.3"
  }
 },
 "nbformat": 4,
 "nbformat_minor": 4
}
