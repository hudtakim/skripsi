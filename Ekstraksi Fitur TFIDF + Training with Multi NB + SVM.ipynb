{
 "cells": [
  {
   "cell_type": "code",
   "execution_count": 29,
   "metadata": {},
   "outputs": [],
   "source": [
    "import pandas as pd\n",
    "\n",
    "def read_data(file_dir):\n",
    "    df = pd.read_csv(file_dir)\n",
    "    return df"
   ]
  },
  {
   "cell_type": "code",
   "execution_count": 30,
   "metadata": {},
   "outputs": [],
   "source": [
    "import matplotlib.pyplot as plt\n",
    "import numpy\n",
    "\n",
    "def visualize_data_aspect(df):\n",
    "    exist = list()\n",
    "    not_exist = list()\n",
    "    \n",
    "    one = 0\n",
    "    zero = 0\n",
    "\n",
    "    aspects = df.columns[:-1]\n",
    "    X = numpy.arange(len(aspects))\n",
    "    \n",
    "    fig = plt.figure()\n",
    "    ax = fig.add_axes([0,0,1,1])\n",
    "    \n",
    "    for col_name in aspects:\n",
    "        for label in df[col_name]:\n",
    "            if label == 'pos' or label == 'neg':\n",
    "                one += 1\n",
    "            else:\n",
    "                zero += 1\n",
    "                \n",
    "        exist.append(one)\n",
    "        not_exist.append(zero)\n",
    "        one = 0\n",
    "        zero = 0\n",
    "        \n",
    "    ax.bar(X + 0.00, exist, color = 'g', width = 0.25, label = 'exist')\n",
    "    ax.bar(X + 0.25, not_exist, color = 'r', width = 0.25, label = 'not exist')\n",
    "        \n",
    "     \n",
    "    plt.xticks(X, aspects)\n",
    "    plt.xlabel(\"Aspek\")\n",
    "    plt.ylabel(\"Jumlah data\")\n",
    "    plt.title(\"Grafik data hasil pelabelan aspek\")\n",
    "    plt.legend()\n",
    "    plt.show()\n",
    "    \n",
    "def visualize_data_sentimen(df):\n",
    "    positive = list()\n",
    "    negative = list()\n",
    "    \n",
    "    one = 0\n",
    "    zero = 0\n",
    "\n",
    "    aspects = df.columns[:-1]\n",
    "    X = numpy.arange(len(aspects))\n",
    "    \n",
    "    fig = plt.figure()\n",
    "    ax = fig.add_axes([0,0,1,1])\n",
    "    \n",
    "    for col_name in aspects:\n",
    "        for label in df[col_name]:\n",
    "            if label == 'pos':\n",
    "                one += 1\n",
    "            elif label == 'neg':\n",
    "                zero += 1\n",
    "    \n",
    "        positive.append(one)\n",
    "        negative.append(zero)\n",
    "        one = 0\n",
    "        zero = 0\n",
    "        \n",
    "    ax.bar(X + 0.00, positive, color = 'b', width = 0.25, label = 'positive')\n",
    "    ax.bar(X + 0.25, negative, color = 'r', width = 0.25, label = 'negative')\n",
    "     \n",
    "    plt.xticks(X, aspects)\n",
    "    plt.xlabel(\"Aspek\")\n",
    "    plt.ylabel(\"Jumlah data\")\n",
    "    plt.title(\"Grafik data hasil pelabelan sentimen\")\n",
    "    plt.legend()\n",
    "    plt.show()\n",
    "\n",
    "def visualize_data(df, col_name):\n",
    "    one = 0\n",
    "    zero = 0\n",
    "    \n",
    "    fig = plt.figure()\n",
    "    ax = fig.add_axes([0,0,1,1])\n",
    "\n",
    "    for label in df[col_name]:\n",
    "        if label == 1:\n",
    "            one += 1\n",
    "        else:\n",
    "            zero += 1\n",
    "    ax.bar(0.00, [one], color = 'g', width = 0.25)\n",
    "    ax.bar(0.25, [zero], color = 'r', width = 0.25)"
   ]
  },
  {
   "cell_type": "code",
   "execution_count": 31,
   "metadata": {},
   "outputs": [],
   "source": [
    "import string\n",
    "from nltk import word_tokenize\n",
    "import pickle\n",
    "\n",
    "a_file = open(\"kamus.pkl\", \"rb\")\n",
    "kamus = pickle.load(a_file)\n",
    "\n",
    "def words_normalization(sentence, dictionary):\n",
    "    return \" \".join([dictionary.get(w,w) for w in sentence.split()])\n",
    "\n",
    "def preprocess1(text):\n",
    "    case_folded = text.lower()\n",
    "    exclude = set(string.punctuation + '1234567890')\n",
    "    symbol_removed = ''.join(ch for ch in case_folded if ch not in exclude)\n",
    "    word_normalized = words_normalization(symbol_removed, kamus)\n",
    "    tokenized = word_tokenize(word_normalized)\n",
    "    return tokenized"
   ]
  },
  {
   "cell_type": "code",
   "execution_count": 36,
   "metadata": {},
   "outputs": [],
   "source": [
    "from nltk.tag import CRFTagger\n",
    "\n",
    "def pos_tagging(data_ulasan):\n",
    "    ct = CRFTagger()\n",
    "    ct.set_model_file('all_indo_man_tag_corpus_model.crf.tagger')\n",
    "\n",
    "    pos_ulasan = ct.tag_sents(data_ulasan)\n",
    "\n",
    "    noun_data = list()\n",
    "    for i,text in enumerate(pos_ulasan, start=0):\n",
    "        temp = list()\n",
    "        for term in text:\n",
    "            if term[1] == 'VB' or term[1] == 'NN' or term[1] == 'JJ' or term[1] == 'RB':\n",
    "                temp.append(term[0])\n",
    "        noun_data.append(temp)\n",
    "\n",
    "    pos_ulasan = data_ulasan\n",
    "\n",
    "    for i in range(len(pos_ulasan)):\n",
    "        pos_ulasan[i] = noun_data[i]\n",
    "    \n",
    "    return pos_ulasan"
   ]
  },
  {
   "cell_type": "code",
   "execution_count": 37,
   "metadata": {},
   "outputs": [],
   "source": [
    "from Sastrawi.Stemmer.StemmerFactory import StemmerFactory\n",
    "from nltk.corpus import stopwords\n",
    "from nltk.tokenize.treebank import TreebankWordDetokenizer\n",
    "\n",
    "def preprocess2(text):\n",
    "    factory = StemmerFactory()\n",
    "    stemmer = factory.create_stemmer()\n",
    "    stop = set(stopwords.words('indonesian'))\n",
    "    text = TreebankWordDetokenizer().detokenize(text)\n",
    "    \n",
    "    stop_removed = ' '.join([word for word in text.split() if word not in stop])\n",
    "    stemmed = ' '.join([stemmer.stem(word) for word in stop_removed.split()])\n",
    "    tokenized = word_tokenize(stemmed)\n",
    "    return tokenized"
   ]
  },
  {
   "cell_type": "code",
   "execution_count": 38,
   "metadata": {},
   "outputs": [],
   "source": [
    "from collections import Counter\n",
    "from sklearn.datasets import make_classification\n",
    "from imblearn.over_sampling import SMOTE \n",
    "\n",
    "def apply_oversampling(X, y):\n",
    "    print('Original dataset shape %s' % Counter(y))\n",
    "    sm = SMOTE(random_state=42)\n",
    "    X_res, y_res = sm.fit_resample(X, y)\n",
    "    print('Resampled dataset shape %s' % Counter(y_res))\n",
    "    return X_res, y_res"
   ]
  },
  {
   "cell_type": "code",
   "execution_count": 39,
   "metadata": {},
   "outputs": [],
   "source": [
    "#Convert label to negative 0 or positive 1\n",
    "import numpy\n",
    "\n",
    "def convert_sentiment_label(df, col_name):\n",
    "    index_nan = list()\n",
    "    df2 = df[['Ulasan', col_name]].copy()\n",
    "    df2[col_name].replace(str(\"pos\"), 1, inplace=True)\n",
    "    df2[col_name].replace(str(\"neg\"), 0, inplace=True)\n",
    "    df2[col_name].replace(\"\", float(\"NaN\"), inplace=True)\n",
    "    df2.dropna(subset=[col_name], inplace=True)\n",
    "    df2[col_name] = df2[col_name].astype(numpy.int64)\n",
    "    \n",
    "    return df2\n",
    "\n",
    "def convert_aspect_label(df, col_name):\n",
    "    index_nan = list()\n",
    "    df2 = df[['Ulasan', col_name]].copy()\n",
    "    df2[col_name].replace(float(\"NaN\"), 0, inplace=True)\n",
    "    df2[col_name].replace(str(\"pos\"), 1, inplace=True)\n",
    "    df2[col_name].replace(str(\"neg\"), 1, inplace=True)\n",
    "    df2[col_name] = df2[col_name].astype(numpy.int64)\n",
    "    \n",
    "    return df2"
   ]
  },
  {
   "cell_type": "code",
   "execution_count": 40,
   "metadata": {},
   "outputs": [],
   "source": [
    "import sklearn\n",
    "from sklearn.model_selection import train_test_split\n",
    "\n",
    "def split_data(df, test_size):\n",
    "    col_name = df.columns[1]\n",
    "    words = df.Ulasan.tolist()\n",
    "    label = df[col_name].tolist()\n",
    "    x_train, x_test, y_train, y_test = train_test_split(words, label, test_size=test_size)\n",
    "    return x_train, x_test, y_train, y_test"
   ]
  },
  {
   "cell_type": "code",
   "execution_count": 41,
   "metadata": {},
   "outputs": [],
   "source": [
    "#https://stackoverflow.com/questions/53294482/how-to-get-tf-idf-scores-for-the-words\n",
    "\n",
    "from sklearn.feature_extraction.text import TfidfVectorizer\n",
    "\n",
    "def tfidf_vectorizer(x_train, x_test):\n",
    "    vectorizer = TfidfVectorizer(sublinear_tf=True, max_df=0.5)\n",
    "    vecx_train = vectorizer.fit_transform(x_train).toarray()\n",
    "    vecx_test = vectorizer.transform(x_test).toarray()\n",
    "    return vecx_train, vecx_test, vectorizer"
   ]
  },
  {
   "cell_type": "code",
   "execution_count": 42,
   "metadata": {},
   "outputs": [],
   "source": [
    "from sklearn.naive_bayes import MultinomialNB\n",
    "from time import time\n",
    "\n",
    "def train_data_nb(x_train, y_train):\n",
    "    t0 = time()\n",
    "    model = MultinomialNB()\n",
    "    model.fit(x_train, y_train)\n",
    "    print(f\"\\nTraining time: {round(time()-t0, 3)}s\")\n",
    "    t0 = time()\n",
    "    return model"
   ]
  },
  {
   "cell_type": "code",
   "execution_count": 43,
   "metadata": {},
   "outputs": [],
   "source": [
    "from sklearn import svm\n",
    "\n",
    "def train_data_svm(x_train, y_train):\n",
    "    t0 = time()\n",
    "    model = svm.SVC(kernel='linear')\n",
    "    model.fit(x_train, y_train)\n",
    "    print(f\"\\nTraining time: {round(time()-t0, 3)}s\")\n",
    "    t0 = time()\n",
    "    return model"
   ]
  },
  {
   "cell_type": "code",
   "execution_count": 44,
   "metadata": {},
   "outputs": [],
   "source": [
    "def predict_data(text, model):\n",
    "    data = [text]\n",
    "    vec_data = vectorizer.transform(data).toarray()\n",
    "    return model.predict(vec_data)"
   ]
  },
  {
   "cell_type": "code",
   "execution_count": 45,
   "metadata": {},
   "outputs": [],
   "source": [
    "from sklearn.metrics import classification_report, confusion_matrix\n",
    "\n",
    "def evaluate_model(model, vectorized_test_data, label):\n",
    "    x_test = vectorized_test_data\n",
    "    y_pred = model.predict(x_test)\n",
    "    print(classification_report(label, y_pred))"
   ]
  },
  {
   "cell_type": "code",
   "execution_count": 46,
   "metadata": {},
   "outputs": [],
   "source": [
    "from sklearn.model_selection import GridSearchCV\n",
    "\n",
    "def grid_search_cv(X_train, y_train):\n",
    "    # defining parameter range\n",
    "    param_grid = {'C': [0.1, 1, 10], \n",
    "                  'gamma': [1, 0.1, 0.01],\n",
    "                  'kernel': ['linear']} \n",
    "  \n",
    "    grid = GridSearchCV(svm.SVC(), param_grid, refit = True, verbose = 3)\n",
    "  \n",
    "    # fitting the model for grid search\n",
    "    grid.fit(X_train, y_train)\n",
    "    print(grid.best_params_)\n",
    "    print(grid.best_estimator_)\n",
    "    return grid"
   ]
  },
  {
   "cell_type": "markdown",
   "metadata": {},
   "source": [
    "# Run Program!!!"
   ]
  },
  {
   "cell_type": "code",
   "execution_count": 56,
   "metadata": {},
   "outputs": [],
   "source": [
    "df = read_data(\"Data skripsi/dataset_ulasan_full.csv\")"
   ]
  },
  {
   "cell_type": "code",
   "execution_count": 57,
   "metadata": {},
   "outputs": [
    {
     "data": {
      "text/html": [
       "<div>\n",
       "<style scoped>\n",
       "    .dataframe tbody tr th:only-of-type {\n",
       "        vertical-align: middle;\n",
       "    }\n",
       "\n",
       "    .dataframe tbody tr th {\n",
       "        vertical-align: top;\n",
       "    }\n",
       "\n",
       "    .dataframe thead th {\n",
       "        text-align: right;\n",
       "    }\n",
       "</style>\n",
       "<table border=\"1\" class=\"dataframe\">\n",
       "  <thead>\n",
       "    <tr style=\"text-align: right;\">\n",
       "      <th></th>\n",
       "      <th>Learnability</th>\n",
       "      <th>Efficiency</th>\n",
       "      <th>Memorability</th>\n",
       "      <th>Errors</th>\n",
       "      <th>Satisfaction</th>\n",
       "      <th>Ulasan</th>\n",
       "    </tr>\n",
       "  </thead>\n",
       "  <tbody>\n",
       "    <tr>\n",
       "      <th>0</th>\n",
       "      <td>pos</td>\n",
       "      <td>pos</td>\n",
       "      <td>pos</td>\n",
       "      <td>pos</td>\n",
       "      <td>pos</td>\n",
       "      <td>Aplikasi ini sangat membantu saya saat pandemi...</td>\n",
       "    </tr>\n",
       "    <tr>\n",
       "      <th>1</th>\n",
       "      <td>pos</td>\n",
       "      <td>pos</td>\n",
       "      <td>pos</td>\n",
       "      <td>pos</td>\n",
       "      <td>pos</td>\n",
       "      <td>Memesan perjalanan lebih mudah</td>\n",
       "    </tr>\n",
       "    <tr>\n",
       "      <th>2</th>\n",
       "      <td>NaN</td>\n",
       "      <td>pos</td>\n",
       "      <td>NaN</td>\n",
       "      <td>NaN</td>\n",
       "      <td>pos</td>\n",
       "      <td>KAI smakin bagus pelayananya, krena situasi Pa...</td>\n",
       "    </tr>\n",
       "    <tr>\n",
       "      <th>3</th>\n",
       "      <td>NaN</td>\n",
       "      <td>NaN</td>\n",
       "      <td>NaN</td>\n",
       "      <td>NaN</td>\n",
       "      <td>pos</td>\n",
       "      <td>Kedepannya lebih menyenangkan lagi</td>\n",
       "    </tr>\n",
       "    <tr>\n",
       "      <th>4</th>\n",
       "      <td>pos</td>\n",
       "      <td>pos</td>\n",
       "      <td>pos</td>\n",
       "      <td>NaN</td>\n",
       "      <td>pos</td>\n",
       "      <td>Sy banyak merasa terbantu</td>\n",
       "    </tr>\n",
       "  </tbody>\n",
       "</table>\n",
       "</div>"
      ],
      "text/plain": [
       "  Learnability Efficiency Memorability Errors Satisfaction  \\\n",
       "0          pos        pos          pos    pos          pos   \n",
       "1          pos        pos          pos    pos          pos   \n",
       "2          NaN        pos          NaN    NaN          pos   \n",
       "3          NaN        NaN          NaN    NaN          pos   \n",
       "4          pos        pos          pos    NaN          pos   \n",
       "\n",
       "                                              Ulasan  \n",
       "0  Aplikasi ini sangat membantu saya saat pandemi...  \n",
       "1                     Memesan perjalanan lebih mudah  \n",
       "2  KAI smakin bagus pelayananya, krena situasi Pa...  \n",
       "3                 Kedepannya lebih menyenangkan lagi  \n",
       "4                          Sy banyak merasa terbantu  "
      ]
     },
     "execution_count": 57,
     "metadata": {},
     "output_type": "execute_result"
    }
   ],
   "source": [
    "df.head()"
   ]
  },
  {
   "cell_type": "code",
   "execution_count": 58,
   "metadata": {},
   "outputs": [
    {
     "data": {
      "image/png": "[encoded data removed]",
      "text/plain": [
       "<Figure size 432x288 with 1 Axes>"
      ]
     },
     "metadata": {
      "needs_background": "light"
     },
     "output_type": "display_data"
    }
   ],
   "source": [
    "visualize_data_aspect(df)"
   ]
  },
  {
   "cell_type": "code",
   "execution_count": 59,
   "metadata": {},
   "outputs": [
    {
     "data": {
      "image/png": "[encoded data removed]",
      "text/plain": [
       "<Figure size 432x288 with 1 Axes>"
      ]
     },
     "metadata": {
      "needs_background": "light"
     },
     "output_type": "display_data"
    }
   ],
   "source": [
    "visualize_data_sentimen(df)"
   ]
  },
  {
   "cell_type": "code",
   "execution_count": 60,
   "metadata": {},
   "outputs": [],
   "source": [
    "col_name1 = 'Learnability'\n",
    "col_name2 = 'Efficiency'\n",
    "col_name3 = 'Memorability'\n",
    "col_name4 = 'Errors'\n",
    "col_name5 = 'Satisfaction'\n",
    "\n",
    "df_sentimen1 = convert_sentiment_label(df, col_name1)\n",
    "df_aspect1 = convert_aspect_label(df, col_name1)\n",
    "\n",
    "df_sentimen2 = convert_sentiment_label(df, col_name2)\n",
    "df_aspect2 = convert_aspect_label(df, col_name2)\n",
    "\n",
    "df_sentimen3 = convert_sentiment_label(df, col_name3)\n",
    "df_aspect3 = convert_aspect_label(df, col_name3)\n",
    "\n",
    "df_sentimen4 = convert_sentiment_label(df, col_name4)\n",
    "df_aspect4 = convert_aspect_label(df, col_name4)\n",
    "\n",
    "df_sentimen5 = convert_sentiment_label(df, col_name5)\n",
    "df_aspect5 = convert_aspect_label(df, col_name5)"
   ]
  },
  {
   "cell_type": "code",
   "execution_count": 61,
   "metadata": {},
   "outputs": [],
   "source": [
    "#Split Data \n",
    "\n",
    "x_train_a1, x_test_a1, y_train_a1, y_test_a1 = split_data(df_aspect1, test_size= 0.2)\n",
    "x_train_s1, x_test_s1, y_train_s1, y_test_s1 = split_data(df_sentimen1, test_size= 0.2)\n",
    "\n",
    "x_train_a2, x_test_a2, y_train_a2, y_test_a2 = split_data(df_aspect2, test_size= 0.2)\n",
    "x_train_s2, x_test_s2, y_train_s2, y_test_s2 = split_data(df_sentimen2, test_size= 0.2)\n",
    "\n",
    "x_train_a3, x_test_a3, y_train_a3, y_test_a3 = split_data(df_aspect3, test_size= 0.2)\n",
    "x_train_s3, x_test_s3, y_train_s3, y_test_s3 = split_data(df_sentimen3, test_size= 0.2)\n",
    "\n",
    "x_train_a4, x_test_a4, y_train_a4, y_test_a4 = split_data(df_aspect4, test_size= 0.2)\n",
    "x_train_s4, x_test_s4, y_train_s4, y_test_s4 = split_data(df_sentimen4, test_size= 0.2)\n",
    "\n",
    "x_train_a5, x_test_a5, y_train_a5, y_test_a5 = split_data(df_aspect5, test_size= 0.2)\n",
    "x_train_s5, x_test_s5, y_train_s5, y_test_s5 = split_data(df_sentimen5, test_size= 0.2)"
   ]
  },
  {
   "cell_type": "code",
   "execution_count": 62,
   "metadata": {},
   "outputs": [],
   "source": [
    "#Preprocessing 1\n",
    "\n",
    "x_train_a1 = [preprocess1(text) for text in x_train_a1]\n",
    "x_test_a1 = [preprocess1(text) for text in x_test_a1]\n",
    "\n",
    "x_train_s1 = [preprocess1(text) for text in x_train_s1]\n",
    "x_test_s1 = [preprocess1(text) for text in x_test_s1]"
   ]
  },
  {
   "cell_type": "code",
   "execution_count": 63,
   "metadata": {},
   "outputs": [],
   "source": [
    "#Pos Tagging untuk data ulasan klasifikasi sentimen\n",
    "\n",
    "x_train_s1 = pos_tagging(x_train_s1)\n",
    "x_test_s1 = pos_tagging(x_test_s1)"
   ]
  },
  {
   "cell_type": "code",
   "execution_count": 64,
   "metadata": {},
   "outputs": [],
   "source": [
    "#Preprocess 2\n",
    "\n",
    "x_train_a1 = [preprocess2(text) for text in x_train_a1]\n",
    "x_test_a1 = [preprocess2(text) for text in x_test_a1]\n",
    "\n",
    "x_train_s1 = [preprocess2(text) for text in x_train_s1]\n",
    "x_test_s1 = [preprocess2(text) for text in x_test_s1]"
   ]
  },
  {
   "cell_type": "code",
   "execution_count": 65,
   "metadata": {},
   "outputs": [],
   "source": [
    "def detokenize(tokens):\n",
    "    return TreebankWordDetokenizer().detokenize(tokens)\n",
    "\n",
    "x_train_a1 = [detokenize(text) for text in x_train_a1]\n",
    "x_test_a1 = [detokenize(text) for text in x_test_a1]\n",
    "\n",
    "x_train_s1 = [detokenize(text) for text in x_train_s1]\n",
    "x_test_s1 = [detokenize(text) for text in x_test_s1]"
   ]
  },
  {
   "cell_type": "code",
   "execution_count": 66,
   "metadata": {},
   "outputs": [],
   "source": [
    "#Ekstraksi fitur TF-IDF\n",
    "\n",
    "vx_train_a1, vx_test_a1, vectorizer_a1 = tfidf_vectorizer(x_train_a1, x_test_a1) #Untuk klasifikasi aspek\n",
    "vx_train_s1, vx_test_s1, vectorizer_s1 = tfidf_vectorizer(x_train_s1, x_test_s1) #Untuk klasifikasi sentimen"
   ]
  },
  {
   "cell_type": "code",
   "execution_count": 67,
   "metadata": {},
   "outputs": [
    {
     "name": "stdout",
     "output_type": "stream",
     "text": [
      "Original dataset shape Counter({0: 2531, 1: 502})\n",
      "Resampled dataset shape Counter({0: 2531, 1: 2531})\n",
      "----------------------------------------------------\n",
      "Original dataset shape Counter({0: 262, 1: 231})\n",
      "Resampled dataset shape Counter({1: 262, 0: 262})\n"
     ]
    }
   ],
   "source": [
    "#Oversampling\n",
    "\n",
    "vx_train_a1, y_train_a1 = apply_oversampling(vx_train_a1, y_train_a1) #Oversampling data untuk klasifikasi aspek\n",
    "print('----------------------------------------------------')\n",
    "vx_train_s1, y_train_s1 = apply_oversampling(vx_train_s1, y_train_s1) ##Oversampling data untuk klasifikasi aspek"
   ]
  },
  {
   "cell_type": "markdown",
   "metadata": {},
   "source": [
    "# Multi-NB"
   ]
  },
  {
   "cell_type": "code",
   "execution_count": 70,
   "metadata": {},
   "outputs": [
    {
     "name": "stdout",
     "output_type": "stream",
     "text": [
      "\n",
      "Training time: 0.062s\n",
      "--------------------------------------------------------\n",
      "\n",
      "Training time: 0.014s\n"
     ]
    }
   ],
   "source": [
    "#Model Training Multi-NB\n",
    "\n",
    "model_nb_a1 = train_data_nb(vx_train_a1, y_train_a1) #Training Model klasifikasi aspek \n",
    "print('--------------------------------------------------------')\n",
    "model_nb_s1 = train_data_nb(vx_train_s1, y_train_s1) #Training Model klasifikasi sentimen"
   ]
  },
  {
   "cell_type": "code",
   "execution_count": 71,
   "metadata": {},
   "outputs": [
    {
     "name": "stdout",
     "output_type": "stream",
     "text": [
      "              precision    recall  f1-score   support\n",
      "\n",
      "           0       0.86      0.66      0.75       644\n",
      "           1       0.17      0.40      0.24       115\n",
      "\n",
      "    accuracy                           0.62       759\n",
      "   macro avg       0.52      0.53      0.49       759\n",
      "weighted avg       0.76      0.62      0.67       759\n",
      "\n",
      "None\n",
      "-----------------------------------------\n",
      "              precision    recall  f1-score   support\n",
      "\n",
      "           0       0.68      0.81      0.74        69\n",
      "           1       0.69      0.53      0.60        55\n",
      "\n",
      "    accuracy                           0.69       124\n",
      "   macro avg       0.69      0.67      0.67       124\n",
      "weighted avg       0.69      0.69      0.68       124\n",
      "\n",
      "None\n"
     ]
    }
   ],
   "source": [
    "print(evaluate_model(model_nb_a1, vx_test_a1, y_test_a1))\n",
    "print('-----------------------------------------')\n",
    "print(evaluate_model(model_nb_s1, vx_test_s1, y_test_s1))"
   ]
  },
  {
   "cell_type": "markdown",
   "metadata": {},
   "source": [
    "# SVM"
   ]
  },
  {
   "cell_type": "code",
   "execution_count": 72,
   "metadata": {},
   "outputs": [
    {
     "name": "stdout",
     "output_type": "stream",
     "text": [
      "\n",
      "Training time: 52.48s\n",
      "----------------------------------------------------------\n",
      "\n",
      "Training time: 0.251s\n"
     ]
    }
   ],
   "source": [
    "#Model Training SVM\n",
    "\n",
    "model_svm_a1 = train_data_svm(vx_train_a1, y_train_a1) #Training Model klasifikasi aspek \n",
    "print('----------------------------------------------------------')\n",
    "model_svm_s1 = train_data_svm(vx_train_s1, y_train_s1) #Training Model klasifikasi sentimen \n"
   ]
  },
  {
   "cell_type": "code",
   "execution_count": 74,
   "metadata": {},
   "outputs": [
    {
     "name": "stdout",
     "output_type": "stream",
     "text": [
      "              precision    recall  f1-score   support\n",
      "\n",
      "           0       0.86      0.68      0.76       644\n",
      "           1       0.17      0.37      0.23       115\n",
      "\n",
      "    accuracy                           0.63       759\n",
      "   macro avg       0.51      0.52      0.49       759\n",
      "weighted avg       0.75      0.63      0.68       759\n",
      "\n",
      "None\n",
      "-----------------------------------------\n",
      "              precision    recall  f1-score   support\n",
      "\n",
      "           0       0.67      0.78      0.72        69\n",
      "           1       0.65      0.51      0.57        55\n",
      "\n",
      "    accuracy                           0.66       124\n",
      "   macro avg       0.66      0.65      0.65       124\n",
      "weighted avg       0.66      0.66      0.65       124\n",
      "\n",
      "None\n"
     ]
    }
   ],
   "source": [
    "print(evaluate_model(model_svm_a1, vx_test_a1, y_test_a1))\n",
    "print('-----------------------------------------')\n",
    "print(evaluate_model(model_svm_s1, vx_test_s1, y_test_s1))"
   ]
  },
  {
   "cell_type": "markdown",
   "metadata": {},
   "source": [
    "# SVM with GridSearchCV"
   ]
  },
  {
   "cell_type": "code",
   "execution_count": 68,
   "metadata": {},
   "outputs": [
    {
     "name": "stdout",
     "output_type": "stream",
     "text": [
      "Fitting 5 folds for each of 9 candidates, totalling 45 fits\n",
      "[CV 1/5] END .....C=0.1, gamma=1, kernel=linear;, score=0.624 total time=  55.5s\n",
      "[CV 2/5] END .....C=0.1, gamma=1, kernel=linear;, score=0.673 total time=  56.8s\n",
      "[CV 3/5] END .....C=0.1, gamma=1, kernel=linear;, score=0.704 total time=  57.6s\n",
      "[CV 4/5] END .....C=0.1, gamma=1, kernel=linear;, score=0.717 total time=  58.1s\n",
      "[CV 5/5] END .....C=0.1, gamma=1, kernel=linear;, score=0.702 total time=  55.9s\n",
      "[CV 1/5] END ...C=0.1, gamma=0.1, kernel=linear;, score=0.624 total time=  55.5s\n",
      "[CV 2/5] END ...C=0.1, gamma=0.1, kernel=linear;, score=0.673 total time=  57.0s\n",
      "[CV 3/5] END ...C=0.1, gamma=0.1, kernel=linear;, score=0.704 total time=  56.9s\n",
      "[CV 4/5] END ...C=0.1, gamma=0.1, kernel=linear;, score=0.717 total time=  56.7s\n",
      "[CV 5/5] END ...C=0.1, gamma=0.1, kernel=linear;, score=0.702 total time=  57.1s\n",
      "[CV 1/5] END ..C=0.1, gamma=0.01, kernel=linear;, score=0.624 total time=  56.1s\n",
      "[CV 2/5] END ..C=0.1, gamma=0.01, kernel=linear;, score=0.673 total time=  57.6s\n",
      "[CV 3/5] END ..C=0.1, gamma=0.01, kernel=linear;, score=0.704 total time=  56.8s\n",
      "[CV 4/5] END ..C=0.1, gamma=0.01, kernel=linear;, score=0.717 total time=  56.9s\n",
      "[CV 5/5] END ..C=0.1, gamma=0.01, kernel=linear;, score=0.702 total time=  57.8s\n",
      "[CV 1/5] END .......C=1, gamma=1, kernel=linear;, score=0.783 total time=  43.9s\n",
      "[CV 2/5] END .......C=1, gamma=1, kernel=linear;, score=0.808 total time=  45.2s\n",
      "[CV 3/5] END .......C=1, gamma=1, kernel=linear;, score=0.841 total time=  45.9s\n",
      "[CV 4/5] END .......C=1, gamma=1, kernel=linear;, score=0.842 total time=  45.9s\n",
      "[CV 5/5] END .......C=1, gamma=1, kernel=linear;, score=0.852 total time=  46.0s\n",
      "[CV 1/5] END .....C=1, gamma=0.1, kernel=linear;, score=0.783 total time=  43.9s\n",
      "[CV 2/5] END .....C=1, gamma=0.1, kernel=linear;, score=0.808 total time=  45.7s\n",
      "[CV 3/5] END .....C=1, gamma=0.1, kernel=linear;, score=0.841 total time=  50.6s\n",
      "[CV 4/5] END .....C=1, gamma=0.1, kernel=linear;, score=0.842 total time=  47.4s\n",
      "[CV 5/5] END .....C=1, gamma=0.1, kernel=linear;, score=0.852 total time=  46.7s\n",
      "[CV 1/5] END ....C=1, gamma=0.01, kernel=linear;, score=0.783 total time=  44.6s\n",
      "[CV 2/5] END ....C=1, gamma=0.01, kernel=linear;, score=0.808 total time=  45.9s\n",
      "[CV 3/5] END ....C=1, gamma=0.01, kernel=linear;, score=0.841 total time=  46.7s\n",
      "[CV 4/5] END ....C=1, gamma=0.01, kernel=linear;, score=0.842 total time=  46.3s\n",
      "[CV 5/5] END ....C=1, gamma=0.01, kernel=linear;, score=0.852 total time=  46.8s\n",
      "[CV 1/5] END ......C=10, gamma=1, kernel=linear;, score=0.831 total time=  33.8s\n",
      "[CV 2/5] END ......C=10, gamma=1, kernel=linear;, score=0.853 total time=  33.0s\n",
      "[CV 3/5] END ......C=10, gamma=1, kernel=linear;, score=0.871 total time=  50.5s\n",
      "[CV 4/5] END ......C=10, gamma=1, kernel=linear;, score=0.881 total time=  32.8s\n",
      "[CV 5/5] END ......C=10, gamma=1, kernel=linear;, score=0.877 total time=  32.9s\n",
      "[CV 1/5] END ....C=10, gamma=0.1, kernel=linear;, score=0.831 total time=  33.5s\n",
      "[CV 2/5] END ....C=10, gamma=0.1, kernel=linear;, score=0.853 total time=  33.6s\n",
      "[CV 3/5] END ....C=10, gamma=0.1, kernel=linear;, score=0.871 total time=  55.3s\n",
      "[CV 4/5] END ....C=10, gamma=0.1, kernel=linear;, score=0.881 total time=  35.2s\n",
      "[CV 5/5] END ....C=10, gamma=0.1, kernel=linear;, score=0.877 total time=  35.1s\n",
      "[CV 1/5] END ...C=10, gamma=0.01, kernel=linear;, score=0.831 total time=  36.9s\n",
      "[CV 2/5] END ...C=10, gamma=0.01, kernel=linear;, score=0.853 total time=  36.7s\n",
      "[CV 3/5] END ...C=10, gamma=0.01, kernel=linear;, score=0.871 total time=  55.8s\n",
      "[CV 4/5] END ...C=10, gamma=0.01, kernel=linear;, score=0.881 total time=  36.0s\n",
      "[CV 5/5] END ...C=10, gamma=0.01, kernel=linear;, score=0.877 total time=  37.3s\n",
      "{'C': 10, 'gamma': 1, 'kernel': 'linear'}\n",
      "SVC(C=10, gamma=1, kernel='linear')\n"
     ]
    }
   ],
   "source": [
    "#Model Training SVM dengan GridSearchCV\n",
    "\n",
    "grid_svm1 = grid_search_cv(vx_train1, y_train1) #Untuk Model klasifikasi aspek "
   ]
  },
  {
   "cell_type": "code",
   "execution_count": null,
   "metadata": {},
   "outputs": [],
   "source": [
    "#grid_svm2 = grid_search_cv(vx_train2, y_train2) #Untuk Model klasifikasi sentimen "
   ]
  },
  {
   "cell_type": "code",
   "execution_count": 69,
   "metadata": {},
   "outputs": [
    {
     "name": "stdout",
     "output_type": "stream",
     "text": [
      "              precision    recall  f1-score   support\n",
      "\n",
      "           0       0.27      0.33      0.29       145\n",
      "           1       0.83      0.78      0.81       614\n",
      "\n",
      "    accuracy                           0.70       759\n",
      "   macro avg       0.55      0.56      0.55       759\n",
      "weighted avg       0.72      0.70      0.71       759\n",
      "\n",
      "None\n"
     ]
    }
   ],
   "source": [
    "print(evaluate_model(grid_svm1, vx_test1, y_test1))"
   ]
  },
  {
   "cell_type": "code",
   "execution_count": 19,
   "metadata": {},
   "outputs": [],
   "source": [
    "#SOurce: https://towardsdatascience.com/training-a-naive-bayes-model-to-identify-the-author-of-an-email-or-document-17dc85fa630a"
   ]
  }
 ],
 "metadata": {
  "kernelspec": {
   "display_name": "Python 3",
   "language": "python",
   "name": "python3"
  },
  "language_info": {
   "codemirror_mode": {
    "name": "ipython",
    "version": 3
   },
   "file_extension": ".py",
   "mimetype": "text/x-python",
   "name": "python",
   "nbconvert_exporter": "python",
   "pygments_lexer": "ipython3",
   "version": "3.7.3"
  }
 },
 "nbformat": 4,
 "nbformat_minor": 4
}
