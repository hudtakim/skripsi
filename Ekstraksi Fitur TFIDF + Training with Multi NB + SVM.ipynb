{
 "cells": [
  {
   "cell_type": "code",
   "execution_count": 1,
   "metadata": {},
   "outputs": [],
   "source": [
    "import pandas as pd  #Read Data\n",
    "\n",
    "def read_data(file_dir):\n",
    "    df = pd.read_csv(file_dir)\n",
    "    return df"
   ]
  },
  {
   "cell_type": "code",
   "execution_count": 2,
   "metadata": {},
   "outputs": [],
   "source": [
    "import matplotlib.pyplot as plt\n",
    "\n",
    "def visualize_data(df, col_name):\n",
    "    one = 0\n",
    "    zero = 0\n",
    "    \n",
    "    fig = plt.figure()\n",
    "    ax = fig.add_axes([0,0,1,1])\n",
    "\n",
    "    for label in df[col_name]:\n",
    "        if label == 1:\n",
    "            one += 1\n",
    "        else:\n",
    "            zero += 1\n",
    "    ax.bar(0.00, [one], color = 'g', width = 0.25)\n",
    "    ax.bar(0.25, [zero], color = 'r', width = 0.25)"
   ]
  },
  {
   "cell_type": "code",
   "execution_count": 19,
   "metadata": {},
   "outputs": [],
   "source": [
    "from collections import Counter\n",
    "from sklearn.datasets import make_classification\n",
    "from imblearn.over_sampling import SMOTE \n",
    "\n",
    "def apply_oversampling(X, y):\n",
    "    print('Original dataset shape %s' % Counter(y))\n",
    "    sm = SMOTE(random_state=42)\n",
    "    X_res, y_res = sm.fit_resample(X, y)\n",
    "    print('Resampled dataset shape %s' % Counter(y_res))\n",
    "    return X_res, y_res"
   ]
  },
  {
   "cell_type": "code",
   "execution_count": 4,
   "metadata": {},
   "outputs": [],
   "source": [
    "#Convert label to negative 0 or positive 1\n",
    "import numpy\n",
    "\n",
    "def convert_sentiment_label(df, col_name):\n",
    "    index_nan = list()\n",
    "    df2 = df[['Ulasan', col_name]].copy()\n",
    "    df2[col_name].replace(str(\"pos\"), 1, inplace=True)\n",
    "    df2[col_name].replace(str(\"neg\"), 0, inplace=True)\n",
    "    df2[col_name].replace(\"\", float(\"NaN\"), inplace=True)\n",
    "    df2.dropna(subset=[col_name], inplace=True)\n",
    "    df2[col_name] = df2[col_name].astype(numpy.int64)\n",
    "    \n",
    "    return df2\n",
    "\n",
    "def convert_aspect_label(df, col_name):\n",
    "    index_nan = list()\n",
    "    df2 = df[['Ulasan', col_name]].copy()\n",
    "    df2[col_name].replace(float(\"NaN\"), 0, inplace=True)\n",
    "    df2[col_name].replace(str(\"pos\"), 1, inplace=True)\n",
    "    df2[col_name].replace(str(\"neg\"), 1, inplace=True)\n",
    "    df2[col_name] = df2[col_name].astype(numpy.int64)\n",
    "    \n",
    "    return df2"
   ]
  },
  {
   "cell_type": "code",
   "execution_count": 5,
   "metadata": {},
   "outputs": [],
   "source": [
    "import sklearn\n",
    "from sklearn.model_selection import train_test_split\n",
    "\n",
    "def split_data(df, col_name, test_size):\n",
    "    words = df.Ulasan.tolist()\n",
    "    label = df[col_name].tolist()\n",
    "    x_train, x_test, y_train, y_test = train_test_split(words, label, test_size=test_size, random_state=10)\n",
    "    return x_train, x_test, y_train, y_test"
   ]
  },
  {
   "cell_type": "code",
   "execution_count": 6,
   "metadata": {},
   "outputs": [],
   "source": [
    "#https://stackoverflow.com/questions/53294482/how-to-get-tf-idf-scores-for-the-words\n",
    "\n",
    "from sklearn.feature_extraction.text import TfidfVectorizer\n",
    "\n",
    "def tfidf_vectorizer(x_train, x_test):\n",
    "    vectorizer = TfidfVectorizer(sublinear_tf=True, max_df=0.5)\n",
    "    vecx_train = vectorizer.fit_transform(x_train).toarray()\n",
    "    vecx_test = vectorizer.transform(x_test).toarray()\n",
    "    return vecx_train, vecx_test, vectorizer"
   ]
  },
  {
   "cell_type": "code",
   "execution_count": 7,
   "metadata": {},
   "outputs": [],
   "source": [
    "from sklearn.naive_bayes import MultinomialNB\n",
    "from time import time\n",
    "\n",
    "def train_data_nb(x_train, x_test, y_train, y_test):\n",
    "    t0 = time()\n",
    "    model = MultinomialNB()\n",
    "    model.fit(x_train, y_train)\n",
    "    print(f\"\\nTraining time: {round(time()-t0, 3)}s\")\n",
    "    t0 = time()\n",
    "    score_train = model.score(x_train, y_train)\n",
    "    print(f\"Prediction time (train): {round(time()-t0, 3)}s\")\n",
    "    t0 = time()\n",
    "    score_test = model.score(x_test, y_test)\n",
    "    print(f\"Prediction time (test): {round(time()-t0, 3)}s\")\n",
    "    print(\"\\nTrain set score:\", score_train)\n",
    "    print(\"Test set score:\", score_test)\n",
    "    return model"
   ]
  },
  {
   "cell_type": "code",
   "execution_count": 8,
   "metadata": {},
   "outputs": [],
   "source": [
    "from sklearn import svm\n",
    "\n",
    "def train_data_svm(x_train, x_test, y_train, y_test):\n",
    "    t0 = time()\n",
    "    model = svm.SVC(kernel='linear')\n",
    "    model.fit(x_train, y_train)\n",
    "    print(f\"\\nTraining time: {round(time()-t0, 3)}s\")\n",
    "    t0 = time()\n",
    "    score_train = model.score(x_train, y_train)\n",
    "    print(f\"Prediction time (train): {round(time()-t0, 3)}s\")\n",
    "    t0 = time()\n",
    "    score_test = model.score(x_test, y_test)\n",
    "    print(f\"Prediction time (test): {round(time()-t0, 3)}s\")\n",
    "    print(\"\\nTrain set score:\", score_train)\n",
    "    print(\"Test set score:\", score_test)\n",
    "    return model"
   ]
  },
  {
   "cell_type": "code",
   "execution_count": 9,
   "metadata": {},
   "outputs": [],
   "source": [
    "def predict_data(text, model):\n",
    "    data = [text]\n",
    "    vec_data = vectorizer.transform(data).toarray()\n",
    "    return model.predict(vec_data)"
   ]
  },
  {
   "cell_type": "code",
   "execution_count": 10,
   "metadata": {},
   "outputs": [],
   "source": [
    "from sklearn.metrics import accuracy_score, precision_recall_fscore_support\n",
    "\n",
    "def evaluate_model(model, vectorized_test_data, label):\n",
    "    x_test = vectorized_test_data\n",
    "    y_pred = model.predict(x_test)\n",
    "    return precision_recall_fscore_support(label, y_pred, average='micro')"
   ]
  },
  {
   "cell_type": "markdown",
   "metadata": {},
   "source": [
    "# Run Program!!!"
   ]
  },
  {
   "cell_type": "code",
   "execution_count": 11,
   "metadata": {},
   "outputs": [],
   "source": [
    "#df = read_data(\"Data skripsi/fix hasil label/aspek_labeling_1.csv\")\n",
    "df = read_data(\"Data skripsi/preprocessed_data.csv\")"
   ]
  },
  {
   "cell_type": "code",
   "execution_count": 96,
   "metadata": {},
   "outputs": [
    {
     "data": {
      "image/png": "[encoded data removed]",
      "text/plain": [
       "<Figure size 432x288 with 1 Axes>"
      ]
     },
     "metadata": {
      "needs_background": "light"
     },
     "output_type": "display_data"
    }
   ],
   "source": [
    "#aspects: 'Learnability', 'Efficiency', 'Memorability', 'Errors', 'Satisfaction'\n",
    "\n",
    "col_name = 'Memorability'  \n",
    "df_sentimen = convert_sentiment_label(df, col_name)\n",
    "df_aspect = convert_aspect_label(df, col_name) \n",
    "visualize_data(df_sentimen, col_name)"
   ]
  },
  {
   "cell_type": "code",
   "execution_count": 97,
   "metadata": {},
   "outputs": [],
   "source": [
    "x_train, x_test, y_train, y_test = split_data(df_sentimen, col_name, test_size= 0.2)"
   ]
  },
  {
   "cell_type": "code",
   "execution_count": 98,
   "metadata": {},
   "outputs": [],
   "source": [
    "vx_train, vx_test, vectorizer = tfidf_vectorizer(x_train, x_test)"
   ]
  },
  {
   "cell_type": "code",
   "execution_count": 99,
   "metadata": {},
   "outputs": [
    {
     "name": "stdout",
     "output_type": "stream",
     "text": [
      "Original dataset shape Counter({0: 260, 1: 233})\n",
      "Resampled dataset shape Counter({1: 260, 0: 260})\n"
     ]
    }
   ],
   "source": [
    "vx_train, y_train = apply_oversampling(vx_train, y_train)"
   ]
  },
  {
   "cell_type": "code",
   "execution_count": 100,
   "metadata": {},
   "outputs": [
    {
     "name": "stdout",
     "output_type": "stream",
     "text": [
      "\n",
      "Training time: 0.006s\n",
      "Prediction time (train): 0.004s\n",
      "Prediction time (test): 0.002s\n",
      "\n",
      "Train set score: 0.9923076923076923\n",
      "Test set score: 0.8951612903225806\n"
     ]
    }
   ],
   "source": [
    "model_nb = train_data_nb(vx_train, vx_test, y_train, y_test)"
   ]
  },
  {
   "cell_type": "code",
   "execution_count": 101,
   "metadata": {},
   "outputs": [
    {
     "data": {
      "text/plain": [
       "(0.8951612903225806, 0.8951612903225806, 0.8951612903225806, None)"
      ]
     },
     "execution_count": 101,
     "metadata": {},
     "output_type": "execute_result"
    }
   ],
   "source": [
    "evaluate_model(model_nb, vx_test, y_test)"
   ]
  },
  {
   "cell_type": "code",
   "execution_count": 102,
   "metadata": {},
   "outputs": [
    {
     "data": {
      "text/plain": [
       "array([1, 0, 1, 0, 1, 0, 0, 1, 0, 0, 0, 0, 0, 1, 1, 0, 0, 0, 1, 1, 0, 0,\n",
       "       0, 0, 0, 1, 1, 0, 0, 0, 1, 1, 1, 0, 0, 1, 0, 0, 1, 1, 1, 1, 1, 0,\n",
       "       0, 0, 0, 0, 0, 1, 0, 0, 1, 1, 0, 1, 1, 1, 0, 1, 1, 1, 0, 0, 0, 0,\n",
       "       1, 0, 0, 1, 0, 0, 0, 1, 0, 0, 0, 1, 1, 0, 0, 0, 0, 0, 1, 1, 1, 0,\n",
       "       0, 0, 0, 1, 1, 0, 0, 0, 0, 0, 1, 0, 1, 0, 0, 0, 0, 0, 1, 0, 1, 0,\n",
       "       1, 0, 0, 0, 0, 1, 0, 1, 0, 0, 1, 1, 1, 0])"
      ]
     },
     "execution_count": 102,
     "metadata": {},
     "output_type": "execute_result"
    }
   ],
   "source": [
    "model_nb.predict(vx_test)"
   ]
  },
  {
   "cell_type": "code",
   "execution_count": 103,
   "metadata": {},
   "outputs": [
    {
     "name": "stdout",
     "output_type": "stream",
     "text": [
      "\n",
      "Training time: 0.382s\n",
      "Prediction time (train): 0.275s\n",
      "Prediction time (test): 0.067s\n",
      "\n",
      "Train set score: 1.0\n",
      "Test set score: 0.9112903225806451\n"
     ]
    }
   ],
   "source": [
    "model_svm = train_data_svm(vx_train, vx_test, y_train, y_test)"
   ]
  },
  {
   "cell_type": "code",
   "execution_count": 104,
   "metadata": {},
   "outputs": [
    {
     "data": {
      "text/plain": [
       "(0.9112903225806451, 0.9112903225806451, 0.9112903225806451, None)"
      ]
     },
     "execution_count": 104,
     "metadata": {},
     "output_type": "execute_result"
    }
   ],
   "source": [
    "evaluate_model(model_svm, vx_test, y_test)"
   ]
  },
  {
   "cell_type": "code",
   "execution_count": 105,
   "metadata": {},
   "outputs": [
    {
     "data": {
      "text/plain": [
       "array([1, 0, 1, 0, 1, 0, 0, 1, 0, 0, 0, 1, 0, 1, 1, 0, 0, 0, 1, 1, 0, 0,\n",
       "       0, 0, 0, 1, 1, 0, 0, 0, 1, 0, 1, 0, 1, 1, 0, 0, 0, 1, 1, 1, 1, 0,\n",
       "       0, 0, 0, 0, 0, 1, 0, 0, 1, 1, 0, 1, 1, 1, 0, 1, 1, 1, 0, 0, 0, 0,\n",
       "       1, 0, 0, 1, 0, 0, 1, 1, 0, 0, 0, 1, 1, 0, 0, 0, 0, 0, 1, 1, 1, 0,\n",
       "       0, 0, 0, 1, 0, 0, 0, 0, 0, 0, 1, 0, 1, 0, 0, 0, 0, 0, 1, 0, 1, 0,\n",
       "       1, 0, 0, 0, 0, 1, 1, 1, 0, 0, 1, 0, 1, 0])"
      ]
     },
     "execution_count": 105,
     "metadata": {},
     "output_type": "execute_result"
    }
   ],
   "source": [
    "model_svm.predict(vx_test)"
   ]
  },
  {
   "cell_type": "code",
   "execution_count": 106,
   "metadata": {},
   "outputs": [
    {
     "data": {
      "text/plain": [
       "array([1])"
      ]
     },
     "execution_count": 106,
     "metadata": {},
     "output_type": "execute_result"
    }
   ],
   "source": [
    "text = \"bagus\"\n",
    "predict_data(text, model_nb)"
   ]
  },
  {
   "cell_type": "code",
   "execution_count": 107,
   "metadata": {},
   "outputs": [
    {
     "data": {
      "text/plain": [
       "array([1])"
      ]
     },
     "execution_count": 107,
     "metadata": {},
     "output_type": "execute_result"
    }
   ],
   "source": [
    "text = \"bagus\"\n",
    "predict_data(text, model_svm)"
   ]
  },
  {
   "cell_type": "code",
   "execution_count": 19,
   "metadata": {},
   "outputs": [],
   "source": [
    "#SOurce: https://towardsdatascience.com/training-a-naive-bayes-model-to-identify-the-author-of-an-email-or-document-17dc85fa630a"
   ]
  }
 ],
 "metadata": {
  "kernelspec": {
   "display_name": "Python 3",
   "language": "python",
   "name": "python3"
  },
  "language_info": {
   "codemirror_mode": {
    "name": "ipython",
    "version": 3
   },
   "file_extension": ".py",
   "mimetype": "text/x-python",
   "name": "python",
   "nbconvert_exporter": "python",
   "pygments_lexer": "ipython3",
   "version": "3.7.3"
  }
 },
 "nbformat": 4,
 "nbformat_minor": 4
}
