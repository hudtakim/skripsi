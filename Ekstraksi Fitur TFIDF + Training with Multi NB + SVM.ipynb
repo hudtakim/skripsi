{
 "cells": [
  {
   "cell_type": "code",
   "execution_count": 64,
   "metadata": {},
   "outputs": [],
   "source": [
    "import pandas as pd\n",
    "\n",
    "def read_data(file_dir):\n",
    "    df = pd.read_csv(file_dir)\n",
    "    return df"
   ]
  },
  {
   "cell_type": "code",
   "execution_count": 2,
   "metadata": {},
   "outputs": [],
   "source": [
    "import matplotlib.pyplot as plt\n",
    "import numpy\n",
    "\n",
    "def visualize_data_rating(df):\n",
    "    one = 0\n",
    "    two = 0\n",
    "    three = 0\n",
    "    four = 0\n",
    "    five = 0\n",
    "\n",
    "    col_name = 'rating'\n",
    "    X = numpy.arange(5)\n",
    "    rating = ['1','2','3','4','5']\n",
    "    \n",
    "    fig = plt.figure()\n",
    "    ax = fig.add_axes([0,0,1,1])\n",
    "    \n",
    "    for data in df[col_name]:\n",
    "        if data == 1:\n",
    "            one += 1\n",
    "        elif data == 2:\n",
    "            two += 1\n",
    "        elif data == 3:\n",
    "            three += 1\n",
    "        elif data == 4:\n",
    "            four += 1\n",
    "        elif data == 5:\n",
    "            five += 1\n",
    "        \n",
    "    ax.bar(X + 0.00, one, color = 'red', width = 0.25, label = '1')\n",
    "    ax.bar(X + 0.25, two, color = 'green', width = 0.25, label = '2')\n",
    "    ax.bar(X + 0.50, three, color = 'blue', width = 0.25, label = '3')\n",
    "    ax.bar(X + 0.75, four, color = 'yellow', width = 0.25, label = '4')\n",
    "    ax.bar(X + 0.1, five, color = 'pink', width = 0.25, label = '5')\n",
    "     \n",
    "    plt.xticks(X, rating)\n",
    "    plt.xlabel(\"Rating\")\n",
    "    plt.ylabel(\"Jumlah data\")\n",
    "    plt.title(\"Grafik Rating Pada Ulasan\")\n",
    "    plt.legend()\n",
    "    plt.show()"
   ]
  },
  {
   "cell_type": "code",
   "execution_count": 3,
   "metadata": {},
   "outputs": [],
   "source": [
    "import matplotlib.pyplot as plt\n",
    "import numpy\n",
    "\n",
    "def visualize_data_aspect(df):\n",
    "    exist = list()\n",
    "    not_exist = list()\n",
    "    \n",
    "    one = 0\n",
    "    zero = 0\n",
    "\n",
    "    aspects = df.columns[:-1]\n",
    "    X = numpy.arange(len(aspects))\n",
    "    \n",
    "    fig = plt.figure()\n",
    "    ax = fig.add_axes([0,0,1,1])\n",
    "    \n",
    "    for col_name in aspects:\n",
    "        for label in df[col_name]:\n",
    "            if label == 'pos' or label == 'neg':\n",
    "                one += 1\n",
    "            else:\n",
    "                zero += 1\n",
    "                \n",
    "        exist.append(one)\n",
    "        not_exist.append(zero)\n",
    "        one = 0\n",
    "        zero = 0\n",
    "        \n",
    "    ax.bar(X + 0.00, exist, color = 'g', width = 0.25, label = 'exist')\n",
    "    ax.bar(X + 0.25, not_exist, color = 'r', width = 0.25, label = 'not exist')\n",
    "        \n",
    "     \n",
    "    plt.xticks(X, aspects)\n",
    "    plt.xlabel(\"Aspek\")\n",
    "    plt.ylabel(\"Jumlah data\")\n",
    "    plt.title(\"Grafik data hasil pelabelan aspek\")\n",
    "    plt.legend()\n",
    "    plt.show()\n",
    "    \n",
    "def visualize_data_sentimen(df):\n",
    "    positive = list()\n",
    "    negative = list()\n",
    "    \n",
    "    one = 0\n",
    "    zero = 0\n",
    "\n",
    "    aspects = df.columns[:-1]\n",
    "    X = numpy.arange(len(aspects))\n",
    "    \n",
    "    fig = plt.figure()\n",
    "    ax = fig.add_axes([0,0,1,1])\n",
    "    \n",
    "    for col_name in aspects:\n",
    "        for label in df[col_name]:\n",
    "            if label == 'pos':\n",
    "                one += 1\n",
    "            elif label == 'neg':\n",
    "                zero += 1\n",
    "    \n",
    "        positive.append(one)\n",
    "        negative.append(zero)\n",
    "        one = 0\n",
    "        zero = 0\n",
    "        \n",
    "    ax.bar(X + 0.00, positive, color = 'b', width = 0.25, label = 'positive')\n",
    "    ax.bar(X + 0.25, negative, color = 'r', width = 0.25, label = 'negative')\n",
    "     \n",
    "    plt.xticks(X, aspects)\n",
    "    plt.xlabel(\"Aspek\")\n",
    "    plt.ylabel(\"Jumlah data\")\n",
    "    plt.title(\"Grafik data hasil pelabelan sentimen\")\n",
    "    plt.legend()\n",
    "    plt.show()\n",
    "\n",
    "def visualize_data(df, col_name):\n",
    "    one = 0\n",
    "    zero = 0\n",
    "    \n",
    "    fig = plt.figure()\n",
    "    ax = fig.add_axes([0,0,1,1])\n",
    "\n",
    "    for label in df[col_name]:\n",
    "        if label == 1:\n",
    "            one += 1\n",
    "        else:\n",
    "            zero += 1\n",
    "    ax.bar(0.00, [one], color = 'g', width = 0.25)\n",
    "    ax.bar(0.25, [zero], color = 'r', width = 0.25)"
   ]
  },
  {
   "cell_type": "code",
   "execution_count": 25,
   "metadata": {},
   "outputs": [],
   "source": [
    "import pickle\n",
    "\n",
    "a_file = open(\"kamus.pkl\", \"rb\")\n",
    "kamus = pickle.load(a_file)\n",
    "\n",
    "import string\n",
    "\n",
    "def preprocess1(X):\n",
    "    preprocessed = list()\n",
    "    for data in X:\n",
    "        case_folded = data.lower()\n",
    "        exclude = set(string.punctuation + '1234567890')\n",
    "        symbol_removed = ''.join(char for char in case_folded if char not in exclude)\n",
    "        word_normalized = \" \".join([kamus.get(word,word) for word in symbol_removed.split()])\n",
    "        tokenized = word_normalized.split()\n",
    "        preprocessed.append(tokenized)\n",
    "        \n",
    "    return preprocessed"
   ]
  },
  {
   "cell_type": "code",
   "execution_count": 5,
   "metadata": {},
   "outputs": [],
   "source": [
    "from nltk.tag import CRFTagger\n",
    "from nltk import word_tokenize\n",
    "\n",
    "def pos_tagging(X):\n",
    "    ct = CRFTagger()\n",
    "    ct.set_model_file('all_indo_man_tag_corpus_model.crf.tagger')\n",
    "    pos_tagged_X = ct.tag_sents(X)\n",
    "    return pos_tagged_X\n",
    "    \n",
    "def pos_feature_selection(X):\n",
    "    pos_tagged_X = pos_tagging(X)\n",
    "    selected_data = list()\n",
    "    for i,data in enumerate(pos_tagged_X, start=0):\n",
    "        temp = list()\n",
    "        for term in data:\n",
    "            if term[1] == 'VB' or term[1] == 'NN' or term[1] == 'JJ' or term[1] == 'RB':\n",
    "                temp.append(term[0])\n",
    "        selected_data.append(temp)\n",
    "        \n",
    "    return selected_data"
   ]
  },
  {
   "cell_type": "code",
   "execution_count": 6,
   "metadata": {},
   "outputs": [],
   "source": [
    "from Sastrawi.Stemmer.StemmerFactory import StemmerFactory\n",
    "from nltk.corpus import stopwords\n",
    "\n",
    "def preprocess2(X):\n",
    "    preprocessed = list()\n",
    "    for data in X:\n",
    "        stop = set(stopwords.words('indonesian'))\n",
    "        stop_removed = [word for word in data if word not in stop]\n",
    "        factory = StemmerFactory()\n",
    "        stemmer = factory.create_stemmer()\n",
    "        stemmed = ' '.join([stemmer.stem(word) for word in stop_removed])\n",
    "        preprocessed.append(stemmed)\n",
    "    \n",
    "    return preprocessed"
   ]
  },
  {
   "cell_type": "code",
   "execution_count": 7,
   "metadata": {},
   "outputs": [],
   "source": [
    "from collections import Counter\n",
    "from sklearn.datasets import make_classification\n",
    "from imblearn.over_sampling import SMOTE \n",
    "\n",
    "def apply_oversampling(X, y):\n",
    "    print('Original dataset shape %s' % Counter(y))\n",
    "    sm = SMOTE(random_state=42)\n",
    "    X_res, y_res = sm.fit_resample(X, y)\n",
    "    print('Resampled dataset shape %s' % Counter(y_res))\n",
    "    return X_res, y_res"
   ]
  },
  {
   "cell_type": "code",
   "execution_count": 8,
   "metadata": {},
   "outputs": [],
   "source": [
    "#Convert label to negative 0 or positive 1\n",
    "import numpy\n",
    "\n",
    "def convert_sentiment_label(df, col_name):\n",
    "    index_nan = list()\n",
    "    df2 = df[['Ulasan', col_name]].copy()\n",
    "    df2[col_name].replace(str(\"pos\"), 1, inplace=True)\n",
    "    df2[col_name].replace(str(\"neg\"), 0, inplace=True)\n",
    "    df2[col_name].replace(\"\", float(\"NaN\"), inplace=True)\n",
    "    df2.dropna(subset=[col_name], inplace=True)\n",
    "    df2[col_name] = df2[col_name].astype(numpy.int64)\n",
    "    \n",
    "    return df2\n",
    "\n",
    "def convert_aspect_label(df, col_name):\n",
    "    index_nan = list()\n",
    "    df2 = df[['Ulasan', col_name]].copy()\n",
    "    df2[col_name].replace(float(\"NaN\"), 0, inplace=True)\n",
    "    df2[col_name].replace(str(\"pos\"), 1, inplace=True)\n",
    "    df2[col_name].replace(str(\"neg\"), 1, inplace=True)\n",
    "    df2[col_name] = df2[col_name].astype(numpy.int64)\n",
    "    \n",
    "    return df2"
   ]
  },
  {
   "cell_type": "code",
   "execution_count": 9,
   "metadata": {},
   "outputs": [],
   "source": [
    "import sklearn\n",
    "from sklearn.model_selection import train_test_split\n",
    "\n",
    "def split_data(df, test_size):\n",
    "    col_name = df.columns[1]\n",
    "    words = df.Ulasan.tolist()\n",
    "    label = df[col_name].tolist()\n",
    "    x_train, x_test, y_train, y_test = train_test_split(words, label, test_size=test_size)\n",
    "    return x_train, x_test, y_train, y_test"
   ]
  },
  {
   "cell_type": "code",
   "execution_count": 10,
   "metadata": {},
   "outputs": [],
   "source": [
    "#https://stackoverflow.com/questions/53294482/how-to-get-tf-idf-scores-for-the-words\n",
    "\n",
    "from sklearn.feature_extraction.text import TfidfVectorizer\n",
    "\n",
    "def tfidf_vectorizer(x_train, x_test):\n",
    "    vectorizer = TfidfVectorizer(sublinear_tf=True)\n",
    "    vecx_train = vectorizer.fit_transform(x_train).toarray()\n",
    "    vecx_test = vectorizer.transform(x_test).toarray()\n",
    "    return vecx_train, vecx_test, vectorizer"
   ]
  },
  {
   "cell_type": "code",
   "execution_count": 11,
   "metadata": {},
   "outputs": [],
   "source": [
    "from sklearn.naive_bayes import MultinomialNB\n",
    "from time import time\n",
    "\n",
    "def train_data_nb(x_train, y_train):\n",
    "    t0 = time()\n",
    "    model = MultinomialNB()\n",
    "    model.fit(x_train, y_train)\n",
    "    print(f\"\\nTraining time: {round(time()-t0, 3)}s\")\n",
    "    t0 = time()\n",
    "    return model"
   ]
  },
  {
   "cell_type": "code",
   "execution_count": 12,
   "metadata": {},
   "outputs": [],
   "source": [
    "from sklearn import svm\n",
    "\n",
    "def train_data_svm(x_train, y_train):\n",
    "    t0 = time()\n",
    "    model = svm.SVC(kernel='linear')\n",
    "    model.fit(x_train, y_train)\n",
    "    print(f\"\\nTraining time: {round(time()-t0, 3)}s\")\n",
    "    t0 = time()\n",
    "    return model"
   ]
  },
  {
   "cell_type": "code",
   "execution_count": 13,
   "metadata": {},
   "outputs": [],
   "source": [
    "def predict_data(text, model):\n",
    "    data = [text]\n",
    "    vec_data = vectorizer.transform(data).toarray()\n",
    "    return model.predict(vec_data)"
   ]
  },
  {
   "cell_type": "code",
   "execution_count": 14,
   "metadata": {},
   "outputs": [],
   "source": [
    "from sklearn.metrics import classification_report, confusion_matrix\n",
    "\n",
    "def evaluate_model(model, vectorized_data, label):\n",
    "    x_test = vectorized_data\n",
    "    y_pred = model.predict(x_test)\n",
    "    print(classification_report(label, y_pred))"
   ]
  },
  {
   "cell_type": "code",
   "execution_count": 15,
   "metadata": {},
   "outputs": [],
   "source": [
    "from sklearn.model_selection import GridSearchCV\n",
    "\n",
    "def grid_search_cv(X_train, y_train):\n",
    "    # defining parameter range\n",
    "    param_grid = {'C': [0.1, 1, 10], \n",
    "                  'gamma': [1, 0.1, 0.01],\n",
    "                  'kernel': ['linear']} \n",
    "  \n",
    "    grid = GridSearchCV(svm.SVC(), param_grid, refit = True, verbose = 3)\n",
    "  \n",
    "    # fitting the model for grid search\n",
    "    grid.fit(X_train, y_train)\n",
    "    print(grid.best_params_)\n",
    "    print(grid.best_estimator_)\n",
    "    return grid"
   ]
  },
  {
   "cell_type": "code",
   "execution_count": 16,
   "metadata": {},
   "outputs": [],
   "source": [
    "def fold_i_of_k(X, y, i, k):\n",
    "    n = len(y)\n",
    "    X_train = list() \n",
    "    X_val = list()\n",
    "    y_train = list()\n",
    "    y_val = list()\n",
    "    \n",
    "    for j in range(n):\n",
    "        if(j >= n*(i-1)//k) and (j < n*i//k):\n",
    "            X_val.append(X[j])\n",
    "            y_val.append(y[j])\n",
    "        else:\n",
    "            X_train.append(X[j])\n",
    "            y_train.append(y[j])\n",
    "            \n",
    "    return X_train, X_val, y_train, y_val\n",
    "\n",
    "def kfold_cv(X, y, k, method):\n",
    "    for i in range(k):\n",
    "        X_train, X_val, y_train, y_val = fold_i_of_k(X, y, i+1, k)\n",
    "        if method == 'nb':\n",
    "            model = train_data_nb(X_train, y_train)\n",
    "            print('model', i+1, 'created, X_val:', len(X_val), 'y_val', len(y_val))\n",
    "            evaluate_model(model, X_val, y_val)\n",
    "        if method == 'svm':\n",
    "            model = train_data_svm(X_train, y_train)\n",
    "            print('model', i+1, 'created, X_val:', len(X_val), 'y_val', len(y_val))\n",
    "            evaluate_model(model, X_val, y_val)"
   ]
  },
  {
   "cell_type": "markdown",
   "metadata": {},
   "source": [
    "# Run Program!!!"
   ]
  },
  {
   "cell_type": "code",
   "execution_count": 18,
   "metadata": {},
   "outputs": [
    {
     "data": {
      "text/html": [
       "<div>\n",
       "<style scoped>\n",
       "    .dataframe tbody tr th:only-of-type {\n",
       "        vertical-align: middle;\n",
       "    }\n",
       "\n",
       "    .dataframe tbody tr th {\n",
       "        vertical-align: top;\n",
       "    }\n",
       "\n",
       "    .dataframe thead th {\n",
       "        text-align: right;\n",
       "    }\n",
       "</style>\n",
       "<table border=\"1\" class=\"dataframe\">\n",
       "  <thead>\n",
       "    <tr style=\"text-align: right;\">\n",
       "      <th></th>\n",
       "      <th>Learnability</th>\n",
       "      <th>Efficiency</th>\n",
       "      <th>Errors</th>\n",
       "      <th>Satisfaction</th>\n",
       "      <th>Ulasan</th>\n",
       "    </tr>\n",
       "  </thead>\n",
       "  <tbody>\n",
       "    <tr>\n",
       "      <th>0</th>\n",
       "      <td>pos</td>\n",
       "      <td>pos</td>\n",
       "      <td>pos</td>\n",
       "      <td>pos</td>\n",
       "      <td>Aplikasi ini sangat membantu saya saat pandemi...</td>\n",
       "    </tr>\n",
       "    <tr>\n",
       "      <th>1</th>\n",
       "      <td>pos</td>\n",
       "      <td>pos</td>\n",
       "      <td>pos</td>\n",
       "      <td>pos</td>\n",
       "      <td>Memesan perjalanan lebih mudah</td>\n",
       "    </tr>\n",
       "    <tr>\n",
       "      <th>2</th>\n",
       "      <td>NaN</td>\n",
       "      <td>pos</td>\n",
       "      <td>NaN</td>\n",
       "      <td>pos</td>\n",
       "      <td>KAI smakin bagus pelayananya, krena situasi Pa...</td>\n",
       "    </tr>\n",
       "    <tr>\n",
       "      <th>3</th>\n",
       "      <td>NaN</td>\n",
       "      <td>NaN</td>\n",
       "      <td>NaN</td>\n",
       "      <td>pos</td>\n",
       "      <td>Kedepannya lebih menyenangkan lagi</td>\n",
       "    </tr>\n",
       "    <tr>\n",
       "      <th>4</th>\n",
       "      <td>pos</td>\n",
       "      <td>pos</td>\n",
       "      <td>NaN</td>\n",
       "      <td>pos</td>\n",
       "      <td>Sy banyak merasa terbantu</td>\n",
       "    </tr>\n",
       "  </tbody>\n",
       "</table>\n",
       "</div>"
      ],
      "text/plain": [
       "  Learnability Efficiency Errors Satisfaction  \\\n",
       "0          pos        pos    pos          pos   \n",
       "1          pos        pos    pos          pos   \n",
       "2          NaN        pos    NaN          pos   \n",
       "3          NaN        NaN    NaN          pos   \n",
       "4          pos        pos    NaN          pos   \n",
       "\n",
       "                                              Ulasan  \n",
       "0  Aplikasi ini sangat membantu saya saat pandemi...  \n",
       "1                     Memesan perjalanan lebih mudah  \n",
       "2  KAI smakin bagus pelayananya, krena situasi Pa...  \n",
       "3                 Kedepannya lebih menyenangkan lagi  \n",
       "4                          Sy banyak merasa terbantu  "
      ]
     },
     "execution_count": 18,
     "metadata": {},
     "output_type": "execute_result"
    }
   ],
   "source": [
    "df = read_data(\"Data skripsi/dataset_ulasan_full.csv\")\n",
    "#df = read_data(\"Data skripsi/data_ulasan_kai_scraped.csv\")\n",
    "df.head()"
   ]
  },
  {
   "cell_type": "code",
   "execution_count": 19,
   "metadata": {},
   "outputs": [
    {
     "data": {
      "image/png": "[encoded data removed]",
      "text/plain": [
       "<Figure size 432x288 with 1 Axes>"
      ]
     },
     "metadata": {
      "needs_background": "light"
     },
     "output_type": "display_data"
    }
   ],
   "source": [
    "visualize_data_aspect(df)"
   ]
  },
  {
   "cell_type": "code",
   "execution_count": 20,
   "metadata": {},
   "outputs": [
    {
     "data": {
      "image/png": "[encoded data removed]",
      "text/plain": [
       "<Figure size 432x288 with 1 Axes>"
      ]
     },
     "metadata": {
      "needs_background": "light"
     },
     "output_type": "display_data"
    }
   ],
   "source": [
    "visualize_data_sentimen(df)"
   ]
  },
  {
   "cell_type": "code",
   "execution_count": 44,
   "metadata": {},
   "outputs": [],
   "source": [
    "#Konversi Label\n",
    "\n",
    "col_name1 = 'Learnability'\n",
    "col_name2 = 'Efficiency'\n",
    "col_name3 = 'Errors'\n",
    "col_name4 = 'Satisfaction'\n",
    "\n",
    "df_sentimen1 = convert_sentiment_label(df, col_name1)\n",
    "df_aspect1 = convert_aspect_label(df, col_name1)\n",
    "\n",
    "df_sentimen2 = convert_sentiment_label(df, col_name2)\n",
    "df_aspect2 = convert_aspect_label(df, col_name2)\n",
    "\n",
    "df_sentimen3 = convert_sentiment_label(df, col_name3)\n",
    "df_aspect3 = convert_aspect_label(df, col_name3)\n",
    "\n",
    "df_sentimen4 = convert_sentiment_label(df, col_name4)\n",
    "df_aspect4 = convert_aspect_label(df, col_name4)"
   ]
  },
  {
   "cell_type": "code",
   "execution_count": 59,
   "metadata": {},
   "outputs": [],
   "source": [
    "#Dokumentasi Hasil Konversi Label\n",
    "df_aspect1.to_csv('Dokumentasi/Hasil Konversi Label/df_aspect1.csv', index=False)\n",
    "df_aspect2.to_csv('Dokumentasi/Hasil Konversi Label/df_aspect2.csv', index=False)\n",
    "df_aspect3.to_csv('Dokumentasi/Hasil Konversi Label/df_aspect3.csv', index=False)\n",
    "df_aspect4.to_csv('Dokumentasi/Hasil Konversi Label/df_aspect4.csv', index=False)\n",
    "\n",
    "df_sentimen1.to_csv('Dokumentasi/Hasil Konversi Label/df_sentimen1.csv', index=False)\n",
    "df_sentimen2.to_csv('Dokumentasi/Hasil Konversi Label/df_sentimen2.csv', index=False)\n",
    "df_sentimen3.to_csv('Dokumentasi/Hasil Konversi Label/df_sentimen3.csv', index=False)\n",
    "df_sentimen4.to_csv('Dokumentasi/Hasil Konversi Label/df_sentimen4.csv', index=False)"
   ]
  },
  {
   "cell_type": "code",
   "execution_count": 45,
   "metadata": {},
   "outputs": [],
   "source": [
    "#Split Data \n",
    "\n",
    "x_train_a1, x_test_a1, y_train_a1, y_test_a1 = split_data(df_aspect1, test_size= 0.2)\n",
    "x_train_s1, x_test_s1, y_train_s1, y_test_s1 = split_data(df_sentimen1, test_size= 0.2)\n",
    "\n",
    "x_train_a2, x_test_a2, y_train_a2, y_test_a2 = split_data(df_aspect2, test_size= 0.2)\n",
    "x_train_s2, x_test_s2, y_train_s2, y_test_s2 = split_data(df_sentimen2, test_size= 0.2)\n",
    "\n",
    "x_train_a3, x_test_a3, y_train_a3, y_test_a3 = split_data(df_aspect3, test_size= 0.2)\n",
    "x_train_s3, x_test_s3, y_train_s3, y_test_s3 = split_data(df_sentimen3, test_size= 0.2)\n",
    "\n",
    "x_train_a4, x_test_a4, y_train_a4, y_test_a4 = split_data(df_aspect4, test_size= 0.2)\n",
    "x_train_s4, x_test_s4, y_train_s4, y_test_s4 = split_data(df_sentimen4, test_size= 0.2)"
   ]
  },
  {
   "cell_type": "code",
   "execution_count": 63,
   "metadata": {},
   "outputs": [],
   "source": [
    "#Dokumentasi hasil Splitting Data\n",
    "def save_list_as_csv(list1, list2, save_dir):\n",
    "    columns = {}\n",
    "\n",
    "    columns['X'] = list1\n",
    "    columns['y'] = list2\n",
    "\n",
    "    data = list(zip(columns['X'],columns['y']))\n",
    "\n",
    "    df = pd.DataFrame(data = data)\n",
    "\n",
    "    df.to_csv(save_dir, index=False, header=['X', 'y'])\n",
    "\n",
    "save_list_as_csv(x_train_a1, y_train_a1, 'Dokumentasi/Hasil Splitting Data/Label Aspek/Data Latih/a1.csv')\n",
    "save_list_as_csv(x_train_s1, y_train_s1, 'Dokumentasi/Hasil Splitting Data/Label Sentimen/Data Latih/s1.csv')\n",
    "save_list_as_csv(x_train_a2, y_train_a2, 'Dokumentasi/Hasil Splitting Data/Label Aspek/Data Latih/a2.csv')\n",
    "save_list_as_csv(x_train_s2, y_train_s2, 'Dokumentasi/Hasil Splitting Data/Label Sentimen/Data Latih/s2.csv')\n",
    "save_list_as_csv(x_train_a3, y_train_a3, 'Dokumentasi/Hasil Splitting Data/Label Aspek/Data Latih/a3.csv')\n",
    "save_list_as_csv(x_train_s3, y_train_s3, 'Dokumentasi/Hasil Splitting Data/Label Sentimen/Data Latih/s3.csv')\n",
    "save_list_as_csv(x_train_a4, y_train_a4, 'Dokumentasi/Hasil Splitting Data/Label Aspek/Data Latih/a4.csv')\n",
    "save_list_as_csv(x_train_s4, y_train_s4, 'Dokumentasi/Hasil Splitting Data/Label Sentimen/Data Latih/s4.csv')\n",
    "\n",
    "save_list_as_csv(x_test_a1, y_test_a1, 'Dokumentasi/Hasil Splitting Data/Label Aspek/Data Uji/a1.csv')\n",
    "save_list_as_csv(x_test_s1, y_test_s1, 'Dokumentasi/Hasil Splitting Data/Label Sentimen/Data Uji/s1.csv')\n",
    "save_list_as_csv(x_test_a2, y_test_a2, 'Dokumentasi/Hasil Splitting Data/Label Aspek/Data Uji/a2.csv')\n",
    "save_list_as_csv(x_test_s2, y_test_s2, 'Dokumentasi/Hasil Splitting Data/Label Sentimen/Data Uji/s2.csv')\n",
    "save_list_as_csv(x_test_a3, y_test_a3, 'Dokumentasi/Hasil Splitting Data/Label Aspek/Data Uji/a3.csv')\n",
    "save_list_as_csv(x_test_s3, y_test_s3, 'Dokumentasi/Hasil Splitting Data/Label Sentimen/Data Uji/s3.csv')\n",
    "save_list_as_csv(x_test_a4, y_test_a4, 'Dokumentasi/Hasil Splitting Data/Label Aspek/Data Uji/a4.csv')\n",
    "save_list_as_csv(x_test_s4, y_test_s4, 'Dokumentasi/Hasil Splitting Data/Label Sentimen/Data Uji/s4.csv')"
   ]
  },
  {
   "cell_type": "code",
   "execution_count": 51,
   "metadata": {},
   "outputs": [
    {
     "name": "stdout",
     "output_type": "stream",
     "text": [
      "0 Saya selalu pulang naik kereta lokal. bersyukur ada aplikasi ini. Tapi pembayaran hanya bisa melalui linkaja sementara HP saya tak bisa untuk link aja. mungkin kedepan nya tambahkan opsi pembayaran untuk kereta lokal.\n",
      "1 Saya sangat terbantu mengaksesnya tanpa antrii beli tiket gampang\n",
      "2 Aplikasi yg sangat membantu untuk mempermudah pemesanan dan pembayaran tiket secara online... sudah tidak ribet lagi harus ke stasiun dengan ini...makin topcer saja????????????\n",
      "3 Aplikasi gk jelas, masih banyak bug di rilis. gak jelas tiba2 logout sendiri ketika buka di 2 hp. Untuk update nya gak semua OS di update, untuk OS PIE ke bawah gak ikut ke update. Belajar lagi bikin aplikasi baru di rilis... Ujung2 nya malah bikin repot naik KA LOKAL.\n",
      "4 Tidak bisa di scann harus ke petugas dahulu baru bisa .... semua mesin cetak gak bisa scan dan gak ada tulisanya cetak . Menyusahkan saja apk nya lebih baik pakai apk travel lebih mudah dan cepat tidak ada kendala ... uda gitu petugasnya di jelasin ngotot .. prettt ... tugasmu melayani bukan ngegas rakyat ... diharap kalian pakai apk lain saja wahai rakyat cerdas\n",
      "5 Aplikasi udah banyak troublenya mempersulit orang yang mau naik kereta, udah gak boleh di printout juga tiketnya di screen shot juga gak bisa, Kasihan lah orang yang mau naik kereta jadi kebingungan. Tolong pihak KAI harus paham kondisi masyarakat menengah kebawah yang belum punya hp android maupun orang orang tua juga kasihan kesulitan untuk akses tiket kereta juga\n"
     ]
    }
   ],
   "source": [
    "for i, x in enumerate(x_train_a1):\n",
    "    print(i,x)\n",
    "    if i == 5:\n",
    "        break"
   ]
  },
  {
   "cell_type": "code",
   "execution_count": 52,
   "metadata": {},
   "outputs": [],
   "source": [
    "#Preprocessing 1\n",
    "\n",
    "x_train_a1 = preprocess1(x_train_a1); x_test_a1 = preprocess1(x_test_a1)\n",
    "x_train_s1 = preprocess1(x_train_s1); x_test_s1 = preprocess1(x_test_s1)\n",
    "\n",
    "x_train_a2 = preprocess1(x_train_a2); x_test_a2 = preprocess1(x_test_a2)\n",
    "x_train_s2 = preprocess1(x_train_s2); x_test_s2 = preprocess1(x_test_s2)\n",
    "\n",
    "x_train_a3 = preprocess1(x_train_a3); x_test_a3 = preprocess1(x_test_a3)\n",
    "x_train_s3 = preprocess1(x_train_s3); x_test_s3 = preprocess1(x_test_s3)\n",
    "\n",
    "x_train_a4 = preprocess1(x_train_a4); x_test_a4 = preprocess1(x_test_a4)\n",
    "x_train_s4 = preprocess1(x_train_s4); x_test_s4 = preprocess1(x_test_s4)"
   ]
  },
  {
   "cell_type": "code",
   "execution_count": 65,
   "metadata": {},
   "outputs": [],
   "source": [
    "#Dokumentasi Hasil Preprocessing 1\n",
    "\n",
    "save_list_as_csv(x_train_a1, y_train_a1, 'Dokumentasi/Hasil Preprocessing 1/Label Aspek/Data Latih/a1.csv')\n",
    "save_list_as_csv(x_train_s1, y_train_s1, 'Dokumentasi/Hasil Preprocessing 1/Label Sentimen/Data Latih/s1.csv')\n",
    "save_list_as_csv(x_train_a2, y_train_a2, 'Dokumentasi/Hasil Preprocessing 1/Label Aspek/Data Latih/a2.csv')\n",
    "save_list_as_csv(x_train_s2, y_train_s2, 'Dokumentasi/Hasil Preprocessing 1/Label Sentimen/Data Latih/s2.csv')\n",
    "save_list_as_csv(x_train_a3, y_train_a3, 'Dokumentasi/Hasil Preprocessing 1/Label Aspek/Data Latih/a3.csv')\n",
    "save_list_as_csv(x_train_s3, y_train_s3, 'Dokumentasi/Hasil Preprocessing 1/Label Sentimen/Data Latih/s3.csv')\n",
    "save_list_as_csv(x_train_a4, y_train_a4, 'Dokumentasi/Hasil Preprocessing 1/Label Aspek/Data Latih/a4.csv')\n",
    "save_list_as_csv(x_train_s4, y_train_s4, 'Dokumentasi/Hasil Preprocessing 1/Label Sentimen/Data Latih/s4.csv')\n",
    "\n",
    "save_list_as_csv(x_test_a1, y_test_a1, 'Dokumentasi/Hasil Preprocessing 1/Label Aspek/Data Uji/a1.csv')\n",
    "save_list_as_csv(x_test_s1, y_test_s1, 'Dokumentasi/Hasil Preprocessing 1/Label Sentimen/Data Uji/s1.csv')\n",
    "save_list_as_csv(x_test_a2, y_test_a2, 'Dokumentasi/Hasil Preprocessing 1/Label Aspek/Data Uji/a2.csv')\n",
    "save_list_as_csv(x_test_s2, y_test_s2, 'Dokumentasi/Hasil Preprocessing 1/Label Sentimen/Data Uji/s2.csv')\n",
    "save_list_as_csv(x_test_a3, y_test_a3, 'Dokumentasi/Hasil Preprocessing 1/Label Aspek/Data Uji/a3.csv')\n",
    "save_list_as_csv(x_test_s3, y_test_s3, 'Dokumentasi/Hasil Preprocessing 1/Label Sentimen/Data Uji/s3.csv')\n",
    "save_list_as_csv(x_test_a4, y_test_a4, 'Dokumentasi/Hasil Preprocessing 1/Label Aspek/Data Uji/a4.csv')\n",
    "save_list_as_csv(x_test_s4, y_test_s4, 'Dokumentasi/Hasil Preprocessing 1/Label Sentimen/Data Uji/s4.csv')"
   ]
  },
  {
   "cell_type": "code",
   "execution_count": 53,
   "metadata": {},
   "outputs": [
    {
     "name": "stdout",
     "output_type": "stream",
     "text": [
      "0 ['saya', 'selalu', 'pulang', 'naik', 'kereta', 'lokal', 'bersyukur', 'ada', 'aplikasi', 'ini', 'tapi', 'pembayaran', 'hanya', 'bisa', 'melalui', 'linkaja', 'sementara', 'telepon', 'saya', 'tak', 'bisa', 'untuk', 'link', 'aja', 'mungkin', 'ke', 'depan', 'nya', 'tambahkan', 'opsi', 'pembayaran', 'untuk', 'kereta', 'lokal']\n",
      "1 ['saya', 'sangat', 'terbantu', 'mengaksesnya', 'tanpa', 'antre', 'beli', 'tiket', 'gampang']\n",
      "2 ['aplikasi', 'yang', 'sangat', 'membantu', 'untuk', 'mempermudah', 'booking', 'dan', 'pembayaran', 'tiket', 'secara', 'online', 'sudah', 'tidak', 'ribet', 'lagi', 'harus', 'ke', 'stasiun', 'dengan', 'ini', 'semakin', 'topcer', 'saja']\n",
      "3 ['aplikasi', 'enggak', 'jelas', 'masih', 'banyak', 'bug', 'di', 'rilis', 'enggak', 'jelas', 'tiba', 'logout', 'sendiri', 'ketika', 'buka', 'di', 'telepon', 'untuk', 'update', 'nya', 'enggak', 'semua', 'os', 'di', 'update', 'untuk', 'os', 'bagaimana', 'ke', 'bawah', 'tolong', 'enggak', 'ikut', 'ke', 'update', 'belajar', 'lagi', 'bikin', 'aplikasi', 'baru', 'di', 'rilis', 'ujung', 'nya', 'malah', 'bikin', 'repot', 'naik', 'ka', 'lokal']\n",
      "4 ['tidak', 'bisa', 'di', 'scan', 'harus', 'ke', 'petugas', 'dahulu', 'baru', 'bisa', 'semua', 'mesin', 'cetak', 'enggak', 'bisa', 'scan', 'dan', 'enggak', 'ada', 'tulisannya', 'cetak', 'menyusahkan', 'saja', 'aplikasi', 'nya', 'lebih', 'baik', 'pakai', 'aplikasi', 'travel', 'lebih', 'mudah', 'dan', 'cepat', 'tidak', 'ada', 'kendala', 'sudah', 'begitu', 'petugasnya', 'di', 'menjelaskan', 'mengotot', 'pret', 'tugasmu', 'melayani', 'bukan', 'ngegas', 'rakyat', 'diharapkan', 'kalian', 'pakai', 'aplikasi', 'lain', 'saja', 'wahai', 'rakyat', 'cerdas']\n",
      "5 ['aplikasi', 'sudah', 'banyak', 'masalahnya', 'mempersulit', 'orang', 'yang', 'mau', 'naik', 'kereta', 'sudah', 'enggak', 'boleh', 'di', 'cetakan', 'juga', 'tiketnya', 'di', 'screen', 'shot', 'juga', 'enggak', 'bisa', 'kasihan', 'lah', 'orang', 'yang', 'mau', 'naik', 'kereta', 'jadi', 'kebingungan', 'tolong', 'pihak', 'kai', 'harus', 'paham', 'kondisi', 'masyarakat', 'menengah', 'ke', 'bawah', 'yang', 'belum', 'punya', 'telepon', 'android', 'maupun', 'orang', 'orang', 'tua', 'juga', 'kasihan', 'kesulitan', 'untuk', 'akses', 'tiket', 'kereta', 'juga']\n"
     ]
    }
   ],
   "source": [
    "for i, x in enumerate(x_train_a1):\n",
    "    print(i,x)\n",
    "    if i == 5:\n",
    "        break"
   ]
  },
  {
   "cell_type": "code",
   "execution_count": 69,
   "metadata": {},
   "outputs": [],
   "source": [
    "#Pos Tagging untuk data ulasan klasifikasi sentimen\n",
    "\n",
    "x_train_s1 = pos_feature_selection(x_train_s1)\n",
    "x_test_s1 = pos_feature_selection(x_test_s1)\n",
    "\n",
    "x_train_s2 = pos_feature_selection(x_train_s2)\n",
    "x_test_s2 = pos_feature_selection(x_test_s2)\n",
    "\n",
    "x_train_s3 = pos_feature_selection(x_train_s3)\n",
    "x_test_s3 = pos_feature_selection(x_test_s3)\n",
    "\n",
    "x_train_s4 = pos_feature_selection(x_train_s4)\n",
    "x_test_s4 = pos_feature_selection(x_test_s4)"
   ]
  },
  {
   "cell_type": "code",
   "execution_count": 70,
   "metadata": {},
   "outputs": [],
   "source": [
    "#Dokumentasi Hasil Seleksi POS\n",
    "\n",
    "save_list_as_csv(x_train_a1, y_train_a1, 'Dokumentasi/Hasil Seleksi POS/Label Aspek/Data Latih/a1.csv')\n",
    "save_list_as_csv(x_train_s1, y_train_s1, 'Dokumentasi/Hasil Seleksi POS/Label Sentimen/Data Latih/s1.csv')\n",
    "save_list_as_csv(x_train_a2, y_train_a2, 'Dokumentasi/Hasil Seleksi POS/Label Aspek/Data Latih/a2.csv')\n",
    "save_list_as_csv(x_train_s2, y_train_s2, 'Dokumentasi/Hasil Seleksi POS/Label Sentimen/Data Latih/s2.csv')\n",
    "save_list_as_csv(x_train_a3, y_train_a3, 'Dokumentasi/Hasil Seleksi POS/Label Aspek/Data Latih/a3.csv')\n",
    "save_list_as_csv(x_train_s3, y_train_s3, 'Dokumentasi/Hasil Seleksi POS/Label Sentimen/Data Latih/s3.csv')\n",
    "save_list_as_csv(x_train_a4, y_train_a4, 'Dokumentasi/Hasil Seleksi POS/Label Aspek/Data Latih/a4.csv')\n",
    "save_list_as_csv(x_train_s4, y_train_s4, 'Dokumentasi/Hasil Seleksi POS/Label Sentimen/Data Latih/s4.csv')\n",
    "\n",
    "save_list_as_csv(x_test_a1, y_test_a1, 'Dokumentasi/Hasil Seleksi POS/Label Aspek/Data Uji/a1.csv')\n",
    "save_list_as_csv(x_test_s1, y_test_s1, 'Dokumentasi/Hasil Seleksi POS/Label Sentimen/Data Uji/s1.csv')\n",
    "save_list_as_csv(x_test_a2, y_test_a2, 'Dokumentasi/Hasil Seleksi POS/Label Aspek/Data Uji/a2.csv')\n",
    "save_list_as_csv(x_test_s2, y_test_s2, 'Dokumentasi/Hasil Seleksi POS/Label Sentimen/Data Uji/s2.csv')\n",
    "save_list_as_csv(x_test_a3, y_test_a3, 'Dokumentasi/Hasil Seleksi POS/Label Aspek/Data Uji/a3.csv')\n",
    "save_list_as_csv(x_test_s3, y_test_s3, 'Dokumentasi/Hasil Seleksi POS/Label Sentimen/Data Uji/s3.csv')\n",
    "save_list_as_csv(x_test_a4, y_test_a4, 'Dokumentasi/Hasil Seleksi POS/Label Aspek/Data Uji/a4.csv')\n",
    "save_list_as_csv(x_test_s4, y_test_s4, 'Dokumentasi/Hasil Seleksi POS/Label Sentimen/Data Uji/s4.csv')"
   ]
  },
  {
   "cell_type": "code",
   "execution_count": 90,
   "metadata": {},
   "outputs": [],
   "source": [
    "#Preprocess 2\n",
    "\n",
    "x_train_a1 = preprocess2(x_train_a1); x_test_a1 = preprocess2(x_test_a1)\n",
    "x_train_s1 = preprocess2(x_train_s1); x_test_s1 = preprocess2(x_test_s1)\n",
    "\n",
    "x_train_a2 = preprocess2(x_train_a2); x_test_a2 = preprocess2(x_test_a2)\n",
    "x_train_s2 = preprocess2(x_train_s2); x_test_s2 = preprocess2(x_test_s2)\n",
    "\n",
    "x_train_a3 = preprocess2(x_train_a3); x_test_a3 = preprocess2(x_test_a3)\n",
    "x_train_s3 = preprocess2(x_train_s3); x_test_s3 = preprocess2(x_test_s3)\n",
    "\n",
    "x_train_a4 = preprocess2(x_train_a4); x_test_a4 = preprocess2(x_test_a4)\n",
    "x_train_s4 = preprocess2(x_train_s4); x_test_s4 = preprocess2(x_test_s4)"
   ]
  },
  {
   "cell_type": "code",
   "execution_count": 91,
   "metadata": {},
   "outputs": [],
   "source": [
    "#Dokumentasi Hasil Preprocessing 2\n",
    "\n",
    "save_list_as_csv(x_train_a1, y_train_a1, 'Dokumentasi/Hasil Preprocessing 2/Label Aspek/Data Latih/a1.csv')\n",
    "save_list_as_csv(x_train_s1, y_train_s1, 'Dokumentasi/Hasil Preprocessing 2/Label Sentimen/Data Latih/s1.csv')\n",
    "save_list_as_csv(x_train_a2, y_train_a2, 'Dokumentasi/Hasil Preprocessing 2/Label Aspek/Data Latih/a2.csv')\n",
    "save_list_as_csv(x_train_s2, y_train_s2, 'Dokumentasi/Hasil Preprocessing 2/Label Sentimen/Data Latih/s2.csv')\n",
    "save_list_as_csv(x_train_a3, y_train_a3, 'Dokumentasi/Hasil Preprocessing 2/Label Aspek/Data Latih/a3.csv')\n",
    "save_list_as_csv(x_train_s3, y_train_s3, 'Dokumentasi/Hasil Preprocessing 2/Label Sentimen/Data Latih/s3.csv')\n",
    "save_list_as_csv(x_train_a4, y_train_a4, 'Dokumentasi/Hasil Preprocessing 2/Label Aspek/Data Latih/a4.csv')\n",
    "save_list_as_csv(x_train_s4, y_train_s4, 'Dokumentasi/Hasil Preprocessing 2/Label Sentimen/Data Latih/s4.csv')\n",
    "\n",
    "save_list_as_csv(x_test_a1, y_test_a1, 'Dokumentasi/Hasil Preprocessing 2/Label Aspek/Data Uji/a1.csv')\n",
    "save_list_as_csv(x_test_s1, y_test_s1, 'Dokumentasi/Hasil Preprocessing 2/Label Sentimen/Data Uji/s1.csv')\n",
    "save_list_as_csv(x_test_a2, y_test_a2, 'Dokumentasi/Hasil Preprocessing 2/Label Aspek/Data Uji/a2.csv')\n",
    "save_list_as_csv(x_test_s2, y_test_s2, 'Dokumentasi/Hasil Preprocessing 2/Label Sentimen/Data Uji/s2.csv')\n",
    "save_list_as_csv(x_test_a3, y_test_a3, 'Dokumentasi/Hasil Preprocessing 2/Label Aspek/Data Uji/a3.csv')\n",
    "save_list_as_csv(x_test_s3, y_test_s3, 'Dokumentasi/Hasil Preprocessing 2/Label Sentimen/Data Uji/s3.csv')\n",
    "save_list_as_csv(x_test_a4, y_test_a4, 'Dokumentasi/Hasil Preprocessing 2/Label Aspek/Data Uji/a4.csv')\n",
    "save_list_as_csv(x_test_s4, y_test_s4, 'Dokumentasi/Hasil Preprocessing 2/Label Sentimen/Data Uji/s4.csv')"
   ]
  },
  {
   "cell_type": "code",
   "execution_count": 103,
   "metadata": {},
   "outputs": [],
   "source": [
    "#Ekstraksi fitur TF-IDF\n",
    "\n",
    "vx_train_a1, vx_test_a1, vectorizer_a1 = tfidf_vectorizer(x_train_a1, x_test_a1) #Untuk klasifikasi aspek\n",
    "vx_train_s1, vx_test_s1, vectorizer_s1 = tfidf_vectorizer(x_train_s1, x_test_s1) #Untuk klasifikasi sentimen\n",
    "\n",
    "vx_train_a2, vx_test_a2, vectorizer_a2 = tfidf_vectorizer(x_train_a2, x_test_a2) #Untuk klasifikasi aspek\n",
    "vx_train_s2, vx_test_s2, vectorizer_s2 = tfidf_vectorizer(x_train_s2, x_test_s2) #Untuk klasifikasi sentimen\n",
    "\n",
    "vx_train_a3, vx_test_a3, vectorizer_a3 = tfidf_vectorizer(x_train_a3, x_test_a3) #Untuk klasifikasi aspek\n",
    "vx_train_s3, vx_test_s3, vectorizer_s3 = tfidf_vectorizer(x_train_s3, x_test_s3) #Untuk klasifikasi sentimen\n",
    "\n",
    "vx_train_a4, vx_test_a4, vectorizer_a4 = tfidf_vectorizer(x_train_a4, x_test_a4) #Untuk klasifikasi aspek\n",
    "vx_train_s4, vx_test_s4, vectorizer_s4 = tfidf_vectorizer(x_train_s4, x_test_s4) #Untuk klasifikasi sentimen"
   ]
  },
  {
   "cell_type": "code",
   "execution_count": 133,
   "metadata": {},
   "outputs": [
    {
     "name": "stdout",
     "output_type": "stream",
     "text": [
      "2724\n",
      "2721\n",
      "2721\n",
      "2725\n",
      "----\n",
      "1149\n",
      "718\n",
      "2293\n",
      "2487\n"
     ]
    }
   ],
   "source": [
    "print(len(vectorizer_a1.get_feature_names()))\n",
    "print(len(vectorizer_a2.get_feature_names()))\n",
    "print(len(vectorizer_a3.get_feature_names()))\n",
    "print(len(vectorizer_a4.get_feature_names()))\n",
    "print('----')\n",
    "print(len(vectorizer_s1.get_feature_names()))\n",
    "print(len(vectorizer_s2.get_feature_names()))\n",
    "print(len(vectorizer_s3.get_feature_names()))\n",
    "print(len(vectorizer_s4.get_feature_names()))"
   ]
  },
  {
   "cell_type": "code",
   "execution_count": 143,
   "metadata": {},
   "outputs": [],
   "source": [
    "#Dokumentasi Hasil Ekstraksi Fitur TF-IDF\n",
    "\n",
    "vadf1 = pd.DataFrame(vx_train_a1, columns=vectorizer_a1.get_feature_names())\n",
    "vadf2 = pd.DataFrame(vx_train_a2, columns=vectorizer_a2.get_feature_names())\n",
    "vadf3 = pd.DataFrame(vx_train_a3, columns=vectorizer_a3.get_feature_names())\n",
    "vadf4 = pd.DataFrame(vx_train_a4, columns=vectorizer_a4.get_feature_names())\n",
    "\n",
    "vsdf1 = pd.DataFrame(vx_train_s1, columns=vectorizer_s1.get_feature_names())\n",
    "vsdf2 = pd.DataFrame(vx_train_s2, columns=vectorizer_s2.get_feature_names())\n",
    "vsdf3 = pd.DataFrame(vx_train_s3, columns=vectorizer_s3.get_feature_names())\n",
    "vsdf4 = pd.DataFrame(vx_train_s4, columns=vectorizer_s4.get_feature_names())\n",
    "\n",
    "vadf1.to_csv('Dokumentasi/Hasil Ekstraksi Fitur TF-IDF/Label Aspek/s1.csv')\n",
    "vadf2.to_csv('Dokumentasi/Hasil Ekstraksi Fitur TF-IDF/Label Aspek/s2.csv')\n",
    "vadf3.to_csv('Dokumentasi/Hasil Ekstraksi Fitur TF-IDF/Label Aspek/s3.csv')\n",
    "vadf4.to_csv('Dokumentasi/Hasil Ekstraksi Fitur TF-IDF/Label Aspek/s4.csv')\n",
    "\n",
    "vsdf1.to_csv('Dokumentasi/Hasil Ekstraksi Fitur TF-IDF/Label Sentimen/s1.csv')\n",
    "vsdf2.to_csv('Dokumentasi/Hasil Ekstraksi Fitur TF-IDF/Label Sentimen/s2.csv')\n",
    "vsdf3.to_csv('Dokumentasi/Hasil Ekstraksi Fitur TF-IDF/Label Sentimen/s3.csv')\n",
    "vsdf4.to_csv('Dokumentasi/Hasil Ekstraksi Fitur TF-IDF/Label Sentimen/s4.csv')"
   ]
  },
  {
   "cell_type": "code",
   "execution_count": 169,
   "metadata": {},
   "outputs": [],
   "source": [
    "import pickle\n",
    "\n",
    "pickle.dump(vectorizer_a1, open(\"Dokumentasi/Hasil Ekstraksi Fitur TF-IDF/Label Aspek/vectorizer_a1.pickle\", \"wb\"))\n",
    "pickle.dump(vx_train_a1, open(\"Dokumentasi/Hasil Ekstraksi Fitur TF-IDF/Label Aspek/vx_train_a1.pickle\", \"wb\"))\n",
    "pickle.dump(vx_test_a1, open(\"Dokumentasi/Hasil Ekstraksi Fitur TF-IDF/Label Aspek/vx_test_a1.pickle\", \"wb\"))\n",
    "\n",
    "pickle.dump(vectorizer_a2, open(\"Dokumentasi/Hasil Ekstraksi Fitur TF-IDF/Label Aspek/vectorizer_a2.pickle\", \"wb\"))\n",
    "pickle.dump(vx_train_a2, open(\"Dokumentasi/Hasil Ekstraksi Fitur TF-IDF/Label Aspek/vx_train_a2.pickle\", \"wb\"))\n",
    "pickle.dump(vx_test_a2, open(\"Dokumentasi/Hasil Ekstraksi Fitur TF-IDF/Label Aspek/vx_test_a2.pickle\", \"wb\"))\n",
    "\n",
    "pickle.dump(vectorizer_a3, open(\"Dokumentasi/Hasil Ekstraksi Fitur TF-IDF/Label Aspek/vectorizer_a3.pickle\", \"wb\"))\n",
    "pickle.dump(vx_train_a3, open(\"Dokumentasi/Hasil Ekstraksi Fitur TF-IDF/Label Aspek/vx_train_a3.pickle\", \"wb\"))\n",
    "pickle.dump(vx_test_a3, open(\"Dokumentasi/Hasil Ekstraksi Fitur TF-IDF/Label Aspek/vx_test_a3.pickle\", \"wb\"))\n",
    "\n",
    "pickle.dump(vectorizer_a4, open(\"Dokumentasi/Hasil Ekstraksi Fitur TF-IDF/Label Aspek/vectorizer_a4.pickle\", \"wb\"))\n",
    "pickle.dump(vx_train_a4, open(\"Dokumentasi/Hasil Ekstraksi Fitur TF-IDF/Label Aspek/vx_train_a4.pickle\", \"wb\"))\n",
    "pickle.dump(vx_test_a4, open(\"Dokumentasi/Hasil Ekstraksi Fitur TF-IDF/Label Aspek/vx_test_a4.pickle\", \"wb\"))\n",
    "\n",
    "\n",
    "pickle.dump(vectorizer_s1, open(\"Dokumentasi/Hasil Ekstraksi Fitur TF-IDF/Label Sentimen/vectorizer_s1.pickle\", \"wb\"))\n",
    "pickle.dump(vx_train_s1, open(\"Dokumentasi/Hasil Ekstraksi Fitur TF-IDF/Label Sentimen/vx_train_s1.pickle\", \"wb\"))\n",
    "pickle.dump(vx_test_s1, open(\"Dokumentasi/Hasil Ekstraksi Fitur TF-IDF/Label Sentimen/vx_test_s1.pickle\", \"wb\"))\n",
    "\n",
    "pickle.dump(vectorizer_s2, open(\"Dokumentasi/Hasil Ekstraksi Fitur TF-IDF/Label Sentimen/vectorizer_s2.pickle\", \"wb\"))\n",
    "pickle.dump(vx_train_s2, open(\"Dokumentasi/Hasil Ekstraksi Fitur TF-IDF/Label Sentimen/vx_train_s2.pickle\", \"wb\"))\n",
    "pickle.dump(vx_test_s2, open(\"Dokumentasi/Hasil Ekstraksi Fitur TF-IDF/Label Sentimen/vx_test_s2.pickle\", \"wb\"))\n",
    "\n",
    "pickle.dump(vectorizer_s3, open(\"Dokumentasi/Hasil Ekstraksi Fitur TF-IDF/Label Sentimen/vectorizer_s3.pickle\", \"wb\"))\n",
    "pickle.dump(vx_train_s3, open(\"Dokumentasi/Hasil Ekstraksi Fitur TF-IDF/Label Sentimen/vx_train_s3.pickle\", \"wb\"))\n",
    "pickle.dump(vx_test_s3, open(\"Dokumentasi/Hasil Ekstraksi Fitur TF-IDF/Label Sentimen/vx_test_s3.pickle\", \"wb\"))\n",
    "\n",
    "pickle.dump(vectorizer_s4, open(\"Dokumentasi/Hasil Ekstraksi Fitur TF-IDF/Label Sentimen/vectorizer_s4.pickle\", \"wb\"))\n",
    "pickle.dump(vx_train_s4, open(\"Dokumentasi/Hasil Ekstraksi Fitur TF-IDF/Label Sentimen/vx_train_s4.pickle\", \"wb\"))\n",
    "pickle.dump(vx_test_s4, open(\"Dokumentasi/Hasil Ekstraksi Fitur TF-IDF/Label Sentimen/vx_test_s4.pickle\", \"wb\"))"
   ]
  },
  {
   "cell_type": "code",
   "execution_count": 179,
   "metadata": {},
   "outputs": [
    {
     "data": {
      "text/plain": [
       "metode        0.347454\n",
       "bayar         0.215355\n",
       "rumit         0.372511\n",
       "efisien       0.436963\n",
       "ikut          0.208215\n",
       "instruksi     0.259459\n",
       "bayar         0.215355\n",
       "link          0.189879\n",
       "aja           0.152347\n",
       "cari          0.155016\n",
       "menu          0.346540\n",
       "dompet        0.259459\n",
       "elektronik    0.237694\n",
       "menu          0.346540\n",
       "link          0.189879\n",
       "aja           0.152347\n",
       "menu          0.346540\n",
       "tolong        0.090679\n",
       "Name: 0, dtype: float64"
      ]
     },
     "execution_count": 179,
     "metadata": {},
     "output_type": "execute_result"
    }
   ],
   "source": [
    "#vectorizer_a1.\n",
    "gaga = \"metode bayar rumit efisien ikut instruksi bayar link aja cari menu dompet elektronik menu link aja menu tolong\"\n",
    "asasa = vectorizer_a1.transform(x_test_a1).toarray()\n",
    "haha = pd.DataFrame(asasa, columns=vectorizer_a1.get_feature_names())[gaga.split()]\n",
    "haha.iloc[0]"
   ]
  },
  {
   "cell_type": "code",
   "execution_count": 171,
   "metadata": {},
   "outputs": [
    {
     "name": "stdout",
     "output_type": "stream",
     "text": [
      "Original dataset shape Counter({0: 2544, 1: 489})\n",
      "Resampled dataset shape Counter({0: 2544, 1: 2544})\n",
      "Original dataset shape Counter({0: 273, 1: 220})\n",
      "Resampled dataset shape Counter({0: 273, 1: 273})\n",
      "------------------------------------------\n",
      "Original dataset shape Counter({0: 2817, 1: 216})\n",
      "Resampled dataset shape Counter({0: 2817, 1: 2817})\n",
      "Original dataset shape Counter({0: 113, 1: 100})\n",
      "Resampled dataset shape Counter({1: 113, 0: 113})\n",
      "------------------------------------------\n",
      "Original dataset shape Counter({1: 2420, 0: 613})\n",
      "Resampled dataset shape Counter({1: 2420, 0: 2420})\n",
      "Original dataset shape Counter({0: 2351, 1: 46})\n",
      "Resampled dataset shape Counter({0: 2351, 1: 2351})\n",
      "------------------------------------------\n",
      "Original dataset shape Counter({1: 2933, 0: 100})\n",
      "Resampled dataset shape Counter({1: 2933, 0: 2933})\n",
      "Original dataset shape Counter({0: 2513, 1: 419})\n",
      "Resampled dataset shape Counter({0: 2513, 1: 2513})\n"
     ]
    }
   ],
   "source": [
    "#Oversampling\n",
    "\n",
    "vx_train_a1, y_train_a1 = apply_oversampling(vx_train_a1, y_train_a1) #Oversampling data untuk klasifikasi aspek\n",
    "vx_train_s1, y_train_s1 = apply_oversampling(vx_train_s1, y_train_s1) #Oversampling data untuk klasifikasi aspek\n",
    "print('------------------------------------------')\n",
    "vx_train_a2, y_train_a2 = apply_oversampling(vx_train_a2, y_train_a2) #Oversampling data untuk klasifikasi aspek\n",
    "vx_train_s2, y_train_s2 = apply_oversampling(vx_train_s2, y_train_s2) #Oversampling data untuk klasifikasi aspek\n",
    "print('------------------------------------------')\n",
    "vx_train_a3, y_train_a3 = apply_oversampling(vx_train_a3, y_train_a3) #Oversampling data untuk klasifikasi aspek\n",
    "vx_train_s3, y_train_s3 = apply_oversampling(vx_train_s3, y_train_s3) #Oversampling data untuk klasifikasi aspek\n",
    "print('------------------------------------------')\n",
    "vx_train_a4, y_train_a4 = apply_oversampling(vx_train_a4, y_train_a4) #Oversampling data untuk klasifikasi aspek\n",
    "vx_train_s4, y_train_s4 = apply_oversampling(vx_train_s4, y_train_s4) #Oversampling data untuk klasifikasi aspek"
   ]
  },
  {
   "cell_type": "markdown",
   "metadata": {},
   "source": [
    "# Multi-NB"
   ]
  },
  {
   "cell_type": "code",
   "execution_count": 36,
   "metadata": {},
   "outputs": [
    {
     "name": "stdout",
     "output_type": "stream",
     "text": [
      "\n",
      "Training time: 0.038s\n",
      "--------------------------------------------------------\n",
      "\n",
      "Training time: 0.005s\n"
     ]
    }
   ],
   "source": [
    "#Model Training Multi-NB\n",
    "\n",
    "model_nb_a1 = train_data_nb(vx_train_a1, y_train_a1) #Training Model klasifikasi aspek \n",
    "print('--------------------------------------------------------')\n",
    "model_nb_s1 = train_data_nb(vx_train_s1, y_train_s1) #Training Model klasifikasi sentimen"
   ]
  },
  {
   "cell_type": "code",
   "execution_count": 37,
   "metadata": {},
   "outputs": [
    {
     "name": "stdout",
     "output_type": "stream",
     "text": [
      "              precision    recall  f1-score   support\n",
      "\n",
      "           0       0.83      0.67      0.74       637\n",
      "           1       0.14      0.29      0.19       122\n",
      "\n",
      "    accuracy                           0.60       759\n",
      "   macro avg       0.49      0.48      0.46       759\n",
      "weighted avg       0.72      0.60      0.65       759\n",
      "\n",
      "None\n",
      "-----------------------------------------\n",
      "              precision    recall  f1-score   support\n",
      "\n",
      "           0       0.66      0.78      0.72        68\n",
      "           1       0.66      0.52      0.58        56\n",
      "\n",
      "    accuracy                           0.66       124\n",
      "   macro avg       0.66      0.65      0.65       124\n",
      "weighted avg       0.66      0.66      0.65       124\n",
      "\n",
      "None\n"
     ]
    }
   ],
   "source": [
    "print(evaluate_model(model_nb_a1, vx_test_a1, y_test_a1))\n",
    "print('-----------------------------------------')\n",
    "print(evaluate_model(model_nb_s1, vx_test_s1, y_test_s1))"
   ]
  },
  {
   "cell_type": "code",
   "execution_count": 54,
   "metadata": {},
   "outputs": [
    {
     "data": {
      "text/plain": [
       "0.14112903225806453"
      ]
     },
     "execution_count": 54,
     "metadata": {},
     "output_type": "execute_result"
    }
   ],
   "source": [
    "from sklearn.metrics import accuracy_score, precision_score, recall_score, f1_score\n",
    "\n",
    "ypred = model_nb_a1.predict(vx_test_a1)\n",
    "accuracy = precision_score(y_test_a1, ypred)\n",
    "accuracy"
   ]
  },
  {
   "cell_type": "code",
   "execution_count": 39,
   "metadata": {},
   "outputs": [
    {
     "name": "stdout",
     "output_type": "stream",
     "text": [
      "\n",
      "Training time: 0.06s\n",
      "model 1 created, X_val: 1015 y_val 1015\n",
      "              precision    recall  f1-score   support\n",
      "\n",
      "           0       0.98      0.30      0.46       867\n",
      "           1       0.19      0.97      0.32       148\n",
      "\n",
      "    accuracy                           0.40      1015\n",
      "   macro avg       0.59      0.63      0.39      1015\n",
      "weighted avg       0.87      0.40      0.44      1015\n",
      "\n",
      "\n",
      "Training time: 0.054s\n",
      "model 2 created, X_val: 1015 y_val 1015\n",
      "              precision    recall  f1-score   support\n",
      "\n",
      "           0       0.98      0.30      0.46       838\n",
      "           1       0.23      0.97      0.37       177\n",
      "\n",
      "    accuracy                           0.42      1015\n",
      "   macro avg       0.60      0.63      0.41      1015\n",
      "weighted avg       0.85      0.42      0.44      1015\n",
      "\n",
      "\n",
      "Training time: 0.054s\n",
      "model 3 created, X_val: 1015 y_val 1015\n",
      "              precision    recall  f1-score   support\n",
      "\n",
      "           0       0.97      0.29      0.45       833\n",
      "           1       0.23      0.96      0.37       182\n",
      "\n",
      "    accuracy                           0.41      1015\n",
      "   macro avg       0.60      0.62      0.41      1015\n",
      "weighted avg       0.84      0.41      0.44      1015\n",
      "\n",
      "\n",
      "Training time: 0.073s\n",
      "model 4 created, X_val: 1015 y_val 1015\n",
      "              precision    recall  f1-score   support\n",
      "\n",
      "           0       0.00      0.00      0.00         0\n",
      "           1       1.00      0.34      0.51      1015\n",
      "\n",
      "    accuracy                           0.34      1015\n",
      "   macro avg       0.50      0.17      0.25      1015\n",
      "weighted avg       1.00      0.34      0.51      1015\n",
      "\n",
      "\n",
      "Training time: 0.051s\n",
      "model 5 created, X_val: 1016 y_val 1016\n",
      "              precision    recall  f1-score   support\n",
      "\n",
      "           0       0.00      0.00      0.00         0\n",
      "           1       1.00      0.30      0.46      1016\n",
      "\n",
      "    accuracy                           0.30      1016\n",
      "   macro avg       0.50      0.15      0.23      1016\n",
      "weighted avg       1.00      0.30      0.46      1016\n",
      "\n"
     ]
    },
    {
     "name": "stderr",
     "output_type": "stream",
     "text": [
      "C:\\Users\\ASUS\\Anaconda3\\lib\\site-packages\\sklearn\\metrics\\_classification.py:1248: UndefinedMetricWarning: Recall and F-score are ill-defined and being set to 0.0 in labels with no true samples. Use `zero_division` parameter to control this behavior.\n",
      "  _warn_prf(average, modifier, msg_start, len(result))\n",
      "C:\\Users\\ASUS\\Anaconda3\\lib\\site-packages\\sklearn\\metrics\\_classification.py:1248: UndefinedMetricWarning: Recall and F-score are ill-defined and being set to 0.0 in labels with no true samples. Use `zero_division` parameter to control this behavior.\n",
      "  _warn_prf(average, modifier, msg_start, len(result))\n",
      "C:\\Users\\ASUS\\Anaconda3\\lib\\site-packages\\sklearn\\metrics\\_classification.py:1248: UndefinedMetricWarning: Recall and F-score are ill-defined and being set to 0.0 in labels with no true samples. Use `zero_division` parameter to control this behavior.\n",
      "  _warn_prf(average, modifier, msg_start, len(result))\n",
      "C:\\Users\\ASUS\\Anaconda3\\lib\\site-packages\\sklearn\\metrics\\_classification.py:1248: UndefinedMetricWarning: Recall and F-score are ill-defined and being set to 0.0 in labels with no true samples. Use `zero_division` parameter to control this behavior.\n",
      "  _warn_prf(average, modifier, msg_start, len(result))\n",
      "C:\\Users\\ASUS\\Anaconda3\\lib\\site-packages\\sklearn\\metrics\\_classification.py:1248: UndefinedMetricWarning: Recall and F-score are ill-defined and being set to 0.0 in labels with no true samples. Use `zero_division` parameter to control this behavior.\n",
      "  _warn_prf(average, modifier, msg_start, len(result))\n",
      "C:\\Users\\ASUS\\Anaconda3\\lib\\site-packages\\sklearn\\metrics\\_classification.py:1248: UndefinedMetricWarning: Recall and F-score are ill-defined and being set to 0.0 in labels with no true samples. Use `zero_division` parameter to control this behavior.\n",
      "  _warn_prf(average, modifier, msg_start, len(result))\n"
     ]
    }
   ],
   "source": [
    "kfold_cv(vx_train_a1, y_train_a1, 5, 'nb')"
   ]
  },
  {
   "cell_type": "markdown",
   "metadata": {},
   "source": [
    "# SVM"
   ]
  },
  {
   "cell_type": "code",
   "execution_count": 40,
   "metadata": {},
   "outputs": [
    {
     "name": "stdout",
     "output_type": "stream",
     "text": [
      "\n",
      "Training time: 25.54s\n",
      "----------------------------------------------------------\n",
      "\n",
      "Training time: 0.086s\n"
     ]
    }
   ],
   "source": [
    "#Model Training SVM\n",
    "\n",
    "model_svm_a1 = train_data_svm(vx_train_a1, y_train_a1) #Training Model klasifikasi aspek \n",
    "print('----------------------------------------------------------')\n",
    "model_svm_s1 = train_data_svm(vx_train_s1, y_train_s1) #Training Model klasifikasi sentimen \n"
   ]
  },
  {
   "cell_type": "code",
   "execution_count": 41,
   "metadata": {},
   "outputs": [
    {
     "name": "stdout",
     "output_type": "stream",
     "text": [
      "              precision    recall  f1-score   support\n",
      "\n",
      "           0       0.83      0.70      0.76       637\n",
      "           1       0.13      0.24      0.17       122\n",
      "\n",
      "    accuracy                           0.63       759\n",
      "   macro avg       0.48      0.47      0.46       759\n",
      "weighted avg       0.72      0.63      0.66       759\n",
      "\n",
      "None\n",
      "-----------------------------------------\n",
      "              precision    recall  f1-score   support\n",
      "\n",
      "           0       0.62      0.71      0.66        68\n",
      "           1       0.57      0.48      0.52        56\n",
      "\n",
      "    accuracy                           0.60       124\n",
      "   macro avg       0.60      0.59      0.59       124\n",
      "weighted avg       0.60      0.60      0.60       124\n",
      "\n",
      "None\n"
     ]
    }
   ],
   "source": [
    "print(evaluate_model(model_svm_a1, vx_test_a1, y_test_a1))\n",
    "print('-----------------------------------------')\n",
    "print(evaluate_model(model_svm_s1, vx_test_s1, y_test_s1))"
   ]
  },
  {
   "cell_type": "markdown",
   "metadata": {},
   "source": [
    "# SVM with GridSearchCV"
   ]
  },
  {
   "cell_type": "code",
   "execution_count": 68,
   "metadata": {},
   "outputs": [
    {
     "name": "stdout",
     "output_type": "stream",
     "text": [
      "Fitting 5 folds for each of 9 candidates, totalling 45 fits\n",
      "[CV 1/5] END .....C=0.1, gamma=1, kernel=linear;, score=0.624 total time=  55.5s\n",
      "[CV 2/5] END .....C=0.1, gamma=1, kernel=linear;, score=0.673 total time=  56.8s\n",
      "[CV 3/5] END .....C=0.1, gamma=1, kernel=linear;, score=0.704 total time=  57.6s\n",
      "[CV 4/5] END .....C=0.1, gamma=1, kernel=linear;, score=0.717 total time=  58.1s\n",
      "[CV 5/5] END .....C=0.1, gamma=1, kernel=linear;, score=0.702 total time=  55.9s\n",
      "[CV 1/5] END ...C=0.1, gamma=0.1, kernel=linear;, score=0.624 total time=  55.5s\n",
      "[CV 2/5] END ...C=0.1, gamma=0.1, kernel=linear;, score=0.673 total time=  57.0s\n",
      "[CV 3/5] END ...C=0.1, gamma=0.1, kernel=linear;, score=0.704 total time=  56.9s\n",
      "[CV 4/5] END ...C=0.1, gamma=0.1, kernel=linear;, score=0.717 total time=  56.7s\n",
      "[CV 5/5] END ...C=0.1, gamma=0.1, kernel=linear;, score=0.702 total time=  57.1s\n",
      "[CV 1/5] END ..C=0.1, gamma=0.01, kernel=linear;, score=0.624 total time=  56.1s\n",
      "[CV 2/5] END ..C=0.1, gamma=0.01, kernel=linear;, score=0.673 total time=  57.6s\n",
      "[CV 3/5] END ..C=0.1, gamma=0.01, kernel=linear;, score=0.704 total time=  56.8s\n",
      "[CV 4/5] END ..C=0.1, gamma=0.01, kernel=linear;, score=0.717 total time=  56.9s\n",
      "[CV 5/5] END ..C=0.1, gamma=0.01, kernel=linear;, score=0.702 total time=  57.8s\n",
      "[CV 1/5] END .......C=1, gamma=1, kernel=linear;, score=0.783 total time=  43.9s\n",
      "[CV 2/5] END .......C=1, gamma=1, kernel=linear;, score=0.808 total time=  45.2s\n",
      "[CV 3/5] END .......C=1, gamma=1, kernel=linear;, score=0.841 total time=  45.9s\n",
      "[CV 4/5] END .......C=1, gamma=1, kernel=linear;, score=0.842 total time=  45.9s\n",
      "[CV 5/5] END .......C=1, gamma=1, kernel=linear;, score=0.852 total time=  46.0s\n",
      "[CV 1/5] END .....C=1, gamma=0.1, kernel=linear;, score=0.783 total time=  43.9s\n",
      "[CV 2/5] END .....C=1, gamma=0.1, kernel=linear;, score=0.808 total time=  45.7s\n",
      "[CV 3/5] END .....C=1, gamma=0.1, kernel=linear;, score=0.841 total time=  50.6s\n",
      "[CV 4/5] END .....C=1, gamma=0.1, kernel=linear;, score=0.842 total time=  47.4s\n",
      "[CV 5/5] END .....C=1, gamma=0.1, kernel=linear;, score=0.852 total time=  46.7s\n",
      "[CV 1/5] END ....C=1, gamma=0.01, kernel=linear;, score=0.783 total time=  44.6s\n",
      "[CV 2/5] END ....C=1, gamma=0.01, kernel=linear;, score=0.808 total time=  45.9s\n",
      "[CV 3/5] END ....C=1, gamma=0.01, kernel=linear;, score=0.841 total time=  46.7s\n",
      "[CV 4/5] END ....C=1, gamma=0.01, kernel=linear;, score=0.842 total time=  46.3s\n",
      "[CV 5/5] END ....C=1, gamma=0.01, kernel=linear;, score=0.852 total time=  46.8s\n",
      "[CV 1/5] END ......C=10, gamma=1, kernel=linear;, score=0.831 total time=  33.8s\n",
      "[CV 2/5] END ......C=10, gamma=1, kernel=linear;, score=0.853 total time=  33.0s\n",
      "[CV 3/5] END ......C=10, gamma=1, kernel=linear;, score=0.871 total time=  50.5s\n",
      "[CV 4/5] END ......C=10, gamma=1, kernel=linear;, score=0.881 total time=  32.8s\n",
      "[CV 5/5] END ......C=10, gamma=1, kernel=linear;, score=0.877 total time=  32.9s\n",
      "[CV 1/5] END ....C=10, gamma=0.1, kernel=linear;, score=0.831 total time=  33.5s\n",
      "[CV 2/5] END ....C=10, gamma=0.1, kernel=linear;, score=0.853 total time=  33.6s\n",
      "[CV 3/5] END ....C=10, gamma=0.1, kernel=linear;, score=0.871 total time=  55.3s\n",
      "[CV 4/5] END ....C=10, gamma=0.1, kernel=linear;, score=0.881 total time=  35.2s\n",
      "[CV 5/5] END ....C=10, gamma=0.1, kernel=linear;, score=0.877 total time=  35.1s\n",
      "[CV 1/5] END ...C=10, gamma=0.01, kernel=linear;, score=0.831 total time=  36.9s\n",
      "[CV 2/5] END ...C=10, gamma=0.01, kernel=linear;, score=0.853 total time=  36.7s\n",
      "[CV 3/5] END ...C=10, gamma=0.01, kernel=linear;, score=0.871 total time=  55.8s\n",
      "[CV 4/5] END ...C=10, gamma=0.01, kernel=linear;, score=0.881 total time=  36.0s\n",
      "[CV 5/5] END ...C=10, gamma=0.01, kernel=linear;, score=0.877 total time=  37.3s\n",
      "{'C': 10, 'gamma': 1, 'kernel': 'linear'}\n",
      "SVC(C=10, gamma=1, kernel='linear')\n"
     ]
    }
   ],
   "source": [
    "#Model Training SVM dengan GridSearchCV\n",
    "\n",
    "grid_svm1 = grid_search_cv(vx_train1, y_train1) #Untuk Model klasifikasi aspek "
   ]
  },
  {
   "cell_type": "code",
   "execution_count": null,
   "metadata": {},
   "outputs": [],
   "source": [
    "#grid_svm2 = grid_search_cv(vx_train2, y_train2) #Untuk Model klasifikasi sentimen "
   ]
  },
  {
   "cell_type": "code",
   "execution_count": 69,
   "metadata": {},
   "outputs": [
    {
     "name": "stdout",
     "output_type": "stream",
     "text": [
      "              precision    recall  f1-score   support\n",
      "\n",
      "           0       0.27      0.33      0.29       145\n",
      "           1       0.83      0.78      0.81       614\n",
      "\n",
      "    accuracy                           0.70       759\n",
      "   macro avg       0.55      0.56      0.55       759\n",
      "weighted avg       0.72      0.70      0.71       759\n",
      "\n",
      "None\n"
     ]
    }
   ],
   "source": [
    "print(evaluate_model(grid_svm1, vx_test1, y_test1))"
   ]
  },
  {
   "cell_type": "code",
   "execution_count": 19,
   "metadata": {},
   "outputs": [],
   "source": [
    "#SOurce: https://towardsdatascience.com/training-a-naive-bayes-model-to-identify-the-author-of-an-email-or-document-17dc85fa630a"
   ]
  }
 ],
 "metadata": {
  "kernelspec": {
   "display_name": "Python 3",
   "language": "python",
   "name": "python3"
  },
  "language_info": {
   "codemirror_mode": {
    "name": "ipython",
    "version": 3
   },
   "file_extension": ".py",
   "mimetype": "text/x-python",
   "name": "python",
   "nbconvert_exporter": "python",
   "pygments_lexer": "ipython3",
   "version": "3.7.3"
  }
 },
 "nbformat": 4,
 "nbformat_minor": 4
}
